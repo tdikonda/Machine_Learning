{
  "nbformat": 4,
  "nbformat_minor": 0,
  "metadata": {
    "colab": {
      "name": "Klaviyo - Data Science Exercise.ipynb",
      "provenance": []
    },
    "kernelspec": {
      "name": "python3",
      "display_name": "Python 3"
    }
  },
  "cells": [
    {
      "cell_type": "code",
      "metadata": {
        "id": "6Embe2W4qtlN",
        "colab_type": "code",
        "colab": {}
      },
      "source": [
        "# import necessary libraries\n",
        "import pandas as pd\n",
        "import matplotlib.pyplot as plt\n",
        "from sklearn.metrics import confusion_matrix, classification_report"
      ],
      "execution_count": 1,
      "outputs": []
    },
    {
      "cell_type": "code",
      "metadata": {
        "id": "_f3cvN32rMBN",
        "colab_type": "code",
        "colab": {}
      },
      "source": [
        "# read the CSV file\n",
        "df = pd.read_csv('/content/screening_exercise_orders_v201810.csv')"
      ],
      "execution_count": 2,
      "outputs": []
    },
    {
      "cell_type": "code",
      "metadata": {
        "id": "o8MzBX5qrU3d",
        "colab_type": "code",
        "colab": {
          "base_uri": "https://localhost:8080/",
          "height": 195
        },
        "outputId": "2f123137-de60-48c9-9663-f3695d1809ea"
      },
      "source": [
        "# checkout the data\n",
        "df.head()"
      ],
      "execution_count": 3,
      "outputs": [
        {
          "output_type": "execute_result",
          "data": {
            "text/html": [
              "<div>\n",
              "<style scoped>\n",
              "    .dataframe tbody tr th:only-of-type {\n",
              "        vertical-align: middle;\n",
              "    }\n",
              "\n",
              "    .dataframe tbody tr th {\n",
              "        vertical-align: top;\n",
              "    }\n",
              "\n",
              "    .dataframe thead th {\n",
              "        text-align: right;\n",
              "    }\n",
              "</style>\n",
              "<table border=\"1\" class=\"dataframe\">\n",
              "  <thead>\n",
              "    <tr style=\"text-align: right;\">\n",
              "      <th></th>\n",
              "      <th>customer_id</th>\n",
              "      <th>gender</th>\n",
              "      <th>date</th>\n",
              "      <th>value</th>\n",
              "      <th>predicted_gender</th>\n",
              "    </tr>\n",
              "  </thead>\n",
              "  <tbody>\n",
              "    <tr>\n",
              "      <th>0</th>\n",
              "      <td>1000</td>\n",
              "      <td>0</td>\n",
              "      <td>2017-01-01 00:11:31</td>\n",
              "      <td>198.5</td>\n",
              "      <td>1</td>\n",
              "    </tr>\n",
              "    <tr>\n",
              "      <th>1</th>\n",
              "      <td>1001</td>\n",
              "      <td>0</td>\n",
              "      <td>2017-01-01 00:29:56</td>\n",
              "      <td>338.0</td>\n",
              "      <td>1</td>\n",
              "    </tr>\n",
              "    <tr>\n",
              "      <th>2</th>\n",
              "      <td>1002</td>\n",
              "      <td>1</td>\n",
              "      <td>2017-01-01 01:30:31</td>\n",
              "      <td>733.0</td>\n",
              "      <td>1</td>\n",
              "    </tr>\n",
              "    <tr>\n",
              "      <th>3</th>\n",
              "      <td>1003</td>\n",
              "      <td>1</td>\n",
              "      <td>2017-01-01 01:34:22</td>\n",
              "      <td>772.0</td>\n",
              "      <td>1</td>\n",
              "    </tr>\n",
              "    <tr>\n",
              "      <th>4</th>\n",
              "      <td>1004</td>\n",
              "      <td>0</td>\n",
              "      <td>2017-01-01 03:11:54</td>\n",
              "      <td>508.0</td>\n",
              "      <td>1</td>\n",
              "    </tr>\n",
              "  </tbody>\n",
              "</table>\n",
              "</div>"
            ],
            "text/plain": [
              "   customer_id  gender                 date  value  predicted_gender\n",
              "0         1000       0  2017-01-01 00:11:31  198.5                 1\n",
              "1         1001       0  2017-01-01 00:29:56  338.0                 1\n",
              "2         1002       1  2017-01-01 01:30:31  733.0                 1\n",
              "3         1003       1  2017-01-01 01:34:22  772.0                 1\n",
              "4         1004       0  2017-01-01 03:11:54  508.0                 1"
            ]
          },
          "metadata": {
            "tags": []
          },
          "execution_count": 3
        }
      ]
    },
    {
      "cell_type": "code",
      "metadata": {
        "id": "divNBtU9rV7l",
        "colab_type": "code",
        "colab": {
          "base_uri": "https://localhost:8080/",
          "height": 228
        },
        "outputId": "0c109139-f743-4c11-d26f-6cce53b86c38"
      },
      "source": [
        "# get summary of the data\n",
        "df.info()"
      ],
      "execution_count": 4,
      "outputs": [
        {
          "output_type": "stream",
          "text": [
            "<class 'pandas.core.frame.DataFrame'>\n",
            "RangeIndex: 13471 entries, 0 to 13470\n",
            "Data columns (total 5 columns):\n",
            " #   Column            Non-Null Count  Dtype  \n",
            "---  ------            --------------  -----  \n",
            " 0   customer_id       13471 non-null  int64  \n",
            " 1   gender            13471 non-null  int64  \n",
            " 2   date              13471 non-null  object \n",
            " 3   value             13471 non-null  float64\n",
            " 4   predicted_gender  13471 non-null  int64  \n",
            "dtypes: float64(1), int64(3), object(1)\n",
            "memory usage: 526.3+ KB\n"
          ],
          "name": "stdout"
        }
      ]
    },
    {
      "cell_type": "code",
      "metadata": {
        "id": "se5r5Fzdram1",
        "colab_type": "code",
        "colab": {
          "base_uri": "https://localhost:8080/",
          "height": 122
        },
        "outputId": "6e825890-0fc5-4619-9330-31434ea4c294"
      },
      "source": [
        "# check for null values\n",
        "df.isnull().sum()"
      ],
      "execution_count": 5,
      "outputs": [
        {
          "output_type": "execute_result",
          "data": {
            "text/plain": [
              "customer_id         0\n",
              "gender              0\n",
              "date                0\n",
              "value               0\n",
              "predicted_gender    0\n",
              "dtype: int64"
            ]
          },
          "metadata": {
            "tags": []
          },
          "execution_count": 5
        }
      ]
    },
    {
      "cell_type": "markdown",
      "metadata": {
        "id": "kKjmvwAKxPP-",
        "colab_type": "text"
      },
      "source": [
        "A) Assemble a dataframe with one row per customer and the following columns:\n",
        "\n",
        "* customer_id\n",
        "* gender\n",
        "* most_recent_order_date\n",
        "* order_count (number of orders placed by this customer)\n",
        "\n",
        "Sort the dataframe by customer_id ascending and display the first 10 rows."
      ]
    },
    {
      "cell_type": "code",
      "metadata": {
        "id": "O1kWgkc35D9h",
        "colab_type": "code",
        "colab": {}
      },
      "source": [
        "# covert the date column to datetime datatype\n",
        "df['date'] = pd.to_datetime(df['date'])"
      ],
      "execution_count": 6,
      "outputs": []
    },
    {
      "cell_type": "code",
      "metadata": {
        "id": "8OZyltNtTOuH",
        "colab_type": "code",
        "colab": {}
      },
      "source": [
        "# create dataframe\n",
        "df1 = pd.DataFrame()\n",
        "\n",
        "# create 'most_recent_order_date' and 'order_count' columns\n",
        "df1['most_recent_order_date'] = df.groupby(['customer_id'])['date'].apply(lambda x: x.nlargest(1).max())\n",
        "df1['order_count'] = df.groupby(by='customer_id')['customer_id'].count()"
      ],
      "execution_count": 7,
      "outputs": []
    },
    {
      "cell_type": "code",
      "metadata": {
        "id": "iNK9wYi5TYZE",
        "colab_type": "code",
        "colab": {
          "base_uri": "https://localhost:8080/",
          "height": 225
        },
        "outputId": "d2dec404-0590-4d7a-8f97-a0f03eb874df"
      },
      "source": [
        "# checkout new created dataframe\n",
        "df1.head()"
      ],
      "execution_count": 8,
      "outputs": [
        {
          "output_type": "execute_result",
          "data": {
            "text/html": [
              "<div>\n",
              "<style scoped>\n",
              "    .dataframe tbody tr th:only-of-type {\n",
              "        vertical-align: middle;\n",
              "    }\n",
              "\n",
              "    .dataframe tbody tr th {\n",
              "        vertical-align: top;\n",
              "    }\n",
              "\n",
              "    .dataframe thead th {\n",
              "        text-align: right;\n",
              "    }\n",
              "</style>\n",
              "<table border=\"1\" class=\"dataframe\">\n",
              "  <thead>\n",
              "    <tr style=\"text-align: right;\">\n",
              "      <th></th>\n",
              "      <th>most_recent_order_date</th>\n",
              "      <th>order_count</th>\n",
              "    </tr>\n",
              "    <tr>\n",
              "      <th>customer_id</th>\n",
              "      <th></th>\n",
              "      <th></th>\n",
              "    </tr>\n",
              "  </thead>\n",
              "  <tbody>\n",
              "    <tr>\n",
              "      <th>1000</th>\n",
              "      <td>2017-01-01 00:11:31</td>\n",
              "      <td>1</td>\n",
              "    </tr>\n",
              "    <tr>\n",
              "      <th>1001</th>\n",
              "      <td>2017-01-01 00:29:56</td>\n",
              "      <td>1</td>\n",
              "    </tr>\n",
              "    <tr>\n",
              "      <th>1002</th>\n",
              "      <td>2017-02-19 21:35:31</td>\n",
              "      <td>3</td>\n",
              "    </tr>\n",
              "    <tr>\n",
              "      <th>1003</th>\n",
              "      <td>2017-04-26 02:37:20</td>\n",
              "      <td>4</td>\n",
              "    </tr>\n",
              "    <tr>\n",
              "      <th>1004</th>\n",
              "      <td>2017-01-01 03:11:54</td>\n",
              "      <td>1</td>\n",
              "    </tr>\n",
              "  </tbody>\n",
              "</table>\n",
              "</div>"
            ],
            "text/plain": [
              "            most_recent_order_date  order_count\n",
              "customer_id                                    \n",
              "1000           2017-01-01 00:11:31            1\n",
              "1001           2017-01-01 00:29:56            1\n",
              "1002           2017-02-19 21:35:31            3\n",
              "1003           2017-04-26 02:37:20            4\n",
              "1004           2017-01-01 03:11:54            1"
            ]
          },
          "metadata": {
            "tags": []
          },
          "execution_count": 8
        }
      ]
    },
    {
      "cell_type": "code",
      "metadata": {
        "id": "XzCHoV5A3UO8",
        "colab_type": "code",
        "colab": {}
      },
      "source": [
        "# create new dataframe and add 'customer_id', 'gender' columns to it\n",
        "klvy = pd.DataFrame()\n",
        "klvy = df[['customer_id', 'gender']]"
      ],
      "execution_count": 9,
      "outputs": []
    },
    {
      "cell_type": "code",
      "metadata": {
        "id": "9sdb7VUuYiGR",
        "colab_type": "code",
        "colab": {}
      },
      "source": [
        "# merge the two dataframes\n",
        "klvy = pd.merge(left=klvy, right=df1, how='left', on='customer_id')"
      ],
      "execution_count": 10,
      "outputs": []
    },
    {
      "cell_type": "code",
      "metadata": {
        "id": "4HkhXqkWb8E8",
        "colab_type": "code",
        "colab": {
          "base_uri": "https://localhost:8080/",
          "height": 34
        },
        "outputId": "52febf7c-9dc2-44b1-e956-5cd7100704b9"
      },
      "source": [
        "# calculate duplicate rows\n",
        "klvy.duplicated().sum()"
      ],
      "execution_count": 11,
      "outputs": [
        {
          "output_type": "execute_result",
          "data": {
            "text/plain": [
              "4657"
            ]
          },
          "metadata": {
            "tags": []
          },
          "execution_count": 11
        }
      ]
    },
    {
      "cell_type": "code",
      "metadata": {
        "id": "Gak2Cn8PqZ8z",
        "colab_type": "code",
        "colab": {}
      },
      "source": [
        "# drop duplicate rows\n",
        "klvy.drop_duplicates(inplace=True)"
      ],
      "execution_count": 12,
      "outputs": []
    },
    {
      "cell_type": "code",
      "metadata": {
        "id": "Vd5S-zqCb5n5",
        "colab_type": "code",
        "colab": {
          "base_uri": "https://localhost:8080/",
          "height": 210
        },
        "outputId": "20c0b1c5-7bcd-4331-ea39-daaef9ef6e83"
      },
      "source": [
        "# get summary of the dataframe\n",
        "klvy.info()"
      ],
      "execution_count": 13,
      "outputs": [
        {
          "output_type": "stream",
          "text": [
            "<class 'pandas.core.frame.DataFrame'>\n",
            "Int64Index: 8814 entries, 0 to 13469\n",
            "Data columns (total 4 columns):\n",
            " #   Column                  Non-Null Count  Dtype         \n",
            "---  ------                  --------------  -----         \n",
            " 0   customer_id             8814 non-null   int64         \n",
            " 1   gender                  8814 non-null   int64         \n",
            " 2   most_recent_order_date  8814 non-null   datetime64[ns]\n",
            " 3   order_count             8814 non-null   int64         \n",
            "dtypes: datetime64[ns](1), int64(3)\n",
            "memory usage: 344.3 KB\n"
          ],
          "name": "stdout"
        }
      ]
    },
    {
      "cell_type": "code",
      "metadata": {
        "id": "5ccGQbKhqy10",
        "colab_type": "code",
        "colab": {
          "base_uri": "https://localhost:8080/",
          "height": 105
        },
        "outputId": "8929755f-f809-4d25-b648-5932dc31c77f"
      },
      "source": [
        "# check for null values\n",
        "klvy.isnull().sum()"
      ],
      "execution_count": 14,
      "outputs": [
        {
          "output_type": "execute_result",
          "data": {
            "text/plain": [
              "customer_id               0\n",
              "gender                    0\n",
              "most_recent_order_date    0\n",
              "order_count               0\n",
              "dtype: int64"
            ]
          },
          "metadata": {
            "tags": []
          },
          "execution_count": 14
        }
      ]
    },
    {
      "cell_type": "markdown",
      "metadata": {
        "id": "O3XPPvEGZyP7",
        "colab_type": "text"
      },
      "source": [
        "### Sorted dataframe by customer_id in ascending order and displaying the first 10 rows."
      ]
    },
    {
      "cell_type": "code",
      "metadata": {
        "id": "fbj7oDjbZqSc",
        "colab_type": "code",
        "colab": {
          "base_uri": "https://localhost:8080/",
          "height": 343
        },
        "outputId": "1be56bb1-4333-4cd0-d53e-e3c454a7fea9"
      },
      "source": [
        "# Sorted dataframe by customer_id in ascending order and displaying the first 10 rows.\n",
        "klvy.head(10)"
      ],
      "execution_count": 15,
      "outputs": [
        {
          "output_type": "execute_result",
          "data": {
            "text/html": [
              "<div>\n",
              "<style scoped>\n",
              "    .dataframe tbody tr th:only-of-type {\n",
              "        vertical-align: middle;\n",
              "    }\n",
              "\n",
              "    .dataframe tbody tr th {\n",
              "        vertical-align: top;\n",
              "    }\n",
              "\n",
              "    .dataframe thead th {\n",
              "        text-align: right;\n",
              "    }\n",
              "</style>\n",
              "<table border=\"1\" class=\"dataframe\">\n",
              "  <thead>\n",
              "    <tr style=\"text-align: right;\">\n",
              "      <th></th>\n",
              "      <th>customer_id</th>\n",
              "      <th>gender</th>\n",
              "      <th>most_recent_order_date</th>\n",
              "      <th>order_count</th>\n",
              "    </tr>\n",
              "  </thead>\n",
              "  <tbody>\n",
              "    <tr>\n",
              "      <th>0</th>\n",
              "      <td>1000</td>\n",
              "      <td>0</td>\n",
              "      <td>2017-01-01 00:11:31</td>\n",
              "      <td>1</td>\n",
              "    </tr>\n",
              "    <tr>\n",
              "      <th>1</th>\n",
              "      <td>1001</td>\n",
              "      <td>0</td>\n",
              "      <td>2017-01-01 00:29:56</td>\n",
              "      <td>1</td>\n",
              "    </tr>\n",
              "    <tr>\n",
              "      <th>2</th>\n",
              "      <td>1002</td>\n",
              "      <td>1</td>\n",
              "      <td>2017-02-19 21:35:31</td>\n",
              "      <td>3</td>\n",
              "    </tr>\n",
              "    <tr>\n",
              "      <th>3</th>\n",
              "      <td>1003</td>\n",
              "      <td>1</td>\n",
              "      <td>2017-04-26 02:37:20</td>\n",
              "      <td>4</td>\n",
              "    </tr>\n",
              "    <tr>\n",
              "      <th>4</th>\n",
              "      <td>1004</td>\n",
              "      <td>0</td>\n",
              "      <td>2017-01-01 03:11:54</td>\n",
              "      <td>1</td>\n",
              "    </tr>\n",
              "    <tr>\n",
              "      <th>5</th>\n",
              "      <td>1005</td>\n",
              "      <td>1</td>\n",
              "      <td>2017-12-16 01:39:27</td>\n",
              "      <td>2</td>\n",
              "    </tr>\n",
              "    <tr>\n",
              "      <th>6</th>\n",
              "      <td>1006</td>\n",
              "      <td>1</td>\n",
              "      <td>2017-05-09 15:27:20</td>\n",
              "      <td>3</td>\n",
              "    </tr>\n",
              "    <tr>\n",
              "      <th>7</th>\n",
              "      <td>1007</td>\n",
              "      <td>0</td>\n",
              "      <td>2017-01-01 15:59:50</td>\n",
              "      <td>1</td>\n",
              "    </tr>\n",
              "    <tr>\n",
              "      <th>8</th>\n",
              "      <td>1008</td>\n",
              "      <td>0</td>\n",
              "      <td>2017-12-17 05:47:48</td>\n",
              "      <td>3</td>\n",
              "    </tr>\n",
              "    <tr>\n",
              "      <th>9</th>\n",
              "      <td>1009</td>\n",
              "      <td>1</td>\n",
              "      <td>2017-01-01 19:27:17</td>\n",
              "      <td>1</td>\n",
              "    </tr>\n",
              "  </tbody>\n",
              "</table>\n",
              "</div>"
            ],
            "text/plain": [
              "   customer_id  gender most_recent_order_date  order_count\n",
              "0         1000       0    2017-01-01 00:11:31            1\n",
              "1         1001       0    2017-01-01 00:29:56            1\n",
              "2         1002       1    2017-02-19 21:35:31            3\n",
              "3         1003       1    2017-04-26 02:37:20            4\n",
              "4         1004       0    2017-01-01 03:11:54            1\n",
              "5         1005       1    2017-12-16 01:39:27            2\n",
              "6         1006       1    2017-05-09 15:27:20            3\n",
              "7         1007       0    2017-01-01 15:59:50            1\n",
              "8         1008       0    2017-12-17 05:47:48            3\n",
              "9         1009       1    2017-01-01 19:27:17            1"
            ]
          },
          "metadata": {
            "tags": []
          },
          "execution_count": 15
        }
      ]
    },
    {
      "cell_type": "markdown",
      "metadata": {
        "id": "UkZecPelxaez",
        "colab_type": "text"
      },
      "source": [
        "B) Plot the count of orders per week for the store."
      ]
    },
    {
      "cell_type": "code",
      "metadata": {
        "id": "X--Bl_5LtiGY",
        "colab_type": "code",
        "colab": {
          "base_uri": "https://localhost:8080/",
          "height": 513
        },
        "outputId": "3a08a6d6-5a8b-4e9c-dfe2-c7070a3d2acb"
      },
      "source": [
        "plt.figure(figsize=(15,7))\n",
        "klvy.groupby(klvy.most_recent_order_date.dt.week)['order_count'].sum().plot(kind='bar')\n",
        "plt.title('Count of Orders per week for the store')\n",
        "plt.xlabel('Week Number')\n",
        "plt.ylabel('Orders per Week')\n",
        "plt.tight_layout()"
      ],
      "execution_count": 16,
      "outputs": [
        {
          "output_type": "display_data",
          "data": {
            "image/png": "[encoded data removed]",
            "text/plain": [
              "<Figure size 1080x504 with 1 Axes>"
            ]
          },
          "metadata": {
            "tags": [],
            "needs_background": "light"
          }
        }
      ]
    },
    {
      "cell_type": "markdown",
      "metadata": {
        "id": "Mom1YHbhxfIh",
        "colab_type": "text"
      },
      "source": [
        "C) Compute the mean order value for gender 0 and for gender 1. Do you think the difference is significant? Justify your choice of method.\n",
        "\n",
        "    I do not find the difference to be significant. The difference in mean order value for gender 0 and gender 1 is 13."
      ]
    },
    {
      "cell_type": "code",
      "metadata": {
        "id": "KftxMrGvxc_k",
        "colab_type": "code",
        "colab": {
          "base_uri": "https://localhost:8080/",
          "height": 34
        },
        "outputId": "53964ebb-4c33-427d-ac9d-d47a739a392a"
      },
      "source": [
        "# mean order value for gender 0\n",
        "df[(df['gender'] == 0)]['value'].mean()"
      ],
      "execution_count": 17,
      "outputs": [
        {
          "output_type": "execute_result",
          "data": {
            "text/plain": [
              "363.89000591803506"
            ]
          },
          "metadata": {
            "tags": []
          },
          "execution_count": 17
        }
      ]
    },
    {
      "cell_type": "code",
      "metadata": {
        "id": "Qwxy1GSocXdS",
        "colab_type": "code",
        "colab": {
          "base_uri": "https://localhost:8080/",
          "height": 34
        },
        "outputId": "aa88b5c6-7199-436f-da0d-7ec69e7e5346"
      },
      "source": [
        "# mean order value for gender 1\n",
        "df[(df['gender'] == 1)]['value'].mean()"
      ],
      "execution_count": 18,
      "outputs": [
        {
          "output_type": "execute_result",
          "data": {
            "text/plain": [
              "350.70836114422"
            ]
          },
          "metadata": {
            "tags": []
          },
          "execution_count": 18
        }
      ]
    },
    {
      "cell_type": "code",
      "metadata": {
        "id": "3g7ZiJ5egu2H",
        "colab_type": "code",
        "colab": {
          "base_uri": "https://localhost:8080/",
          "height": 87
        },
        "outputId": "8247102f-9c82-472d-9675-e9fb625f3760"
      },
      "source": [
        "#df.groupby('gender')['value'].mean()"
      ],
      "execution_count": 35,
      "outputs": [
        {
          "output_type": "execute_result",
          "data": {
            "text/plain": [
              "gender\n",
              "0    363.890006\n",
              "1    350.708361\n",
              "Name: value, dtype: float64"
            ]
          },
          "metadata": {
            "tags": []
          },
          "execution_count": 35
        }
      ]
    },
    {
      "cell_type": "markdown",
      "metadata": {
        "id": "4aXOEdp8xhfH",
        "colab_type": "text"
      },
      "source": [
        "D) Generate a confusion matrix for the gender predictions of customers in this dataset. You can assume that there is only one gender prediction for each customer. What does the confusion matrix tell you about the quality of the predictions?\n",
        "\n",
        "    In the classification report the f1-score is 64% which indicates that the quality of the prediction is not acceptable."
      ]
    },
    {
      "cell_type": "code",
      "metadata": {
        "id": "ICNXwAqzxiUD",
        "colab_type": "code",
        "colab": {
          "base_uri": "https://localhost:8080/",
          "height": 52
        },
        "outputId": "e44ff02f-89df-429c-c7ad-106cb6e97dda"
      },
      "source": [
        "# confusion matrix\n",
        "print(confusion_matrix(df.gender, df.predicted_gender))"
      ],
      "execution_count": 19,
      "outputs": [
        {
          "output_type": "stream",
          "text": [
            "[[3349 3410]\n",
            " [1463 5249]]\n"
          ],
          "name": "stdout"
        }
      ]
    },
    {
      "cell_type": "code",
      "metadata": {
        "id": "i-tN3XOCm5DT",
        "colab_type": "code",
        "colab": {
          "base_uri": "https://localhost:8080/",
          "height": 175
        },
        "outputId": "1663c242-7d94-4ca6-ea69-a8c8b0a6f631"
      },
      "source": [
        "# classification report\n",
        "print(classification_report(df.gender, df.predicted_gender))"
      ],
      "execution_count": 21,
      "outputs": [
        {
          "output_type": "stream",
          "text": [
            "              precision    recall  f1-score   support\n",
            "\n",
            "           0       0.70      0.50      0.58      6759\n",
            "           1       0.61      0.78      0.68      6712\n",
            "\n",
            "    accuracy                           0.64     13471\n",
            "   macro avg       0.65      0.64      0.63     13471\n",
            "weighted avg       0.65      0.64      0.63     13471\n",
            "\n"
          ],
          "name": "stdout"
        }
      ]
    },
    {
      "cell_type": "markdown",
      "metadata": {
        "id": "AAd9xNPKxiw1",
        "colab_type": "text"
      },
      "source": [
        "E) Describe one of your favorite tools or techniques and give a small example of how it's helped you solve a problem. Limit your answer to one paragraph, and please be specific.\n",
        "\n",
        "> I have worked on a project called Hand Emojinator which predicts Hand Emojis when hand gestures are made on a video stream. I did not had data to train the machine learning model and had to manually collect images of hand gestures to input the deep learning model. The concept of Convolutional Neural Networks (CNNs) was used for building the classifier model. After training and testing the model, its accuracy was not acceptable. To overcome low model accuracy, I used the concept of Transfer Learning, in which you use the learnings of another pre-trained model and embed it into your model to increase its accuracy by which my model was providing good accuracy on predicting Hand Emojis."
      ]
    }
  ]
}