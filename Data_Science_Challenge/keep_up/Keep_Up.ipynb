{
  "nbformat": 4,
  "nbformat_minor": 0,
  "metadata": {
    "colab": {
      "name": "Keep Up.ipynb",
      "provenance": [],
      "collapsed_sections": []
    },
    "kernelspec": {
      "name": "python3",
      "display_name": "Python 3"
    }
  },
  "cells": [
    {
      "cell_type": "markdown",
      "metadata": {
        "id": "XgqEZqBORG50",
        "colab_type": "text"
      },
      "source": [
        "# Data Science Challenge\n",
        "For this exercise, you will analyze a dataset from Amazon. The data format and a sample entry are shown below.\n",
        "\n",
        "With the given data for 548552 products, perform exploratory analysis and make suggestions for further analysis on the following aspects.\n",
        "\n",
        "1. __Trustworthiness of ratings__\n",
        "\n",
        "    Q. Ratings are susceptible to manipulation, bias etc. What can you say (quantitatively speaking) about the ratings in this dataset?\n",
        "\n",
        "2. __Category bloat__\n",
        "    \n",
        "    Consider the product group named 'Books'. Each product in this group is associated with categories. Naturally, with categorization, there are tradeoffs between how broad or specific the categories must be.\n",
        "\n",
        "    Q. Is there redundancy in the categorization? How can it be identified/removed?\n",
        "\n",
        "    Q. Is is possible to reduce the number of categories drastically (say to 10% of existing categories) by sacrificing relatively few category entries (say close to 10%)?\n",
        "\n",
        "3. __Algorithm thinking__\n",
        "    \n",
        "    Q. How would build the product categorization from scratch, using similar/co-purchased information?\n",
        "\n",
        "4. __Product thinking__\n",
        "    \n",
        "    Q. Is it a good idea to show users the categorization hierarchy for items?\n",
        "\n",
        "    Q. Is it a good idea to show users similar/co-purchased items?\n",
        "\n",
        "    Q. Is it a good idea to show users reviews and ratings for items?\n",
        "\n",
        "---\n",
        "\n",
        "### Amazon product co-purchasing network metadata\n",
        "The data was collected by crawling Amazon website and contains product metadata and review information about 548,552 different products (Books, music CDs, DVDs and VHS video tapes). The data was collected in summer 2006.\n",
        "\n",
        "For each product the following information is available:\n",
        "\n",
        "- Title\n",
        "- Salesrank\n",
        "- List of similar products (that get co-purchased with the current product)\n",
        "- Detailed product categorization\n",
        "- Product reviews: time, customer, rating, number of votes, number of people that found the review helpful\n",
        "\n",
        "#### Sample Data Entry:\n",
        "\n",
        "    Id:   15\n",
        "    ASIN: 1559362022\n",
        "        title: Wake Up and Smell the Coffee\n",
        "        group: Book\n",
        "        salesrank: 518927\n",
        "        similar: 5  1559360968  1559361247  1559360828  1559361018  0743214552\n",
        "        categories: 3\n",
        "            |Books[283155]|Subjects[1000]|Literature & Fiction[17]|Drama[2159]|United States[2160]   \n",
        "            |Books[283155]|Subjects[1000]|Arts & Photography[1]|Performing Arts[521000]|Theater[2154]|General[2218]\n",
        "            |Books[283155]|Subjects[1000]|Literature & Fiction[17]|Authors, A-Z[70021]|( B )[70023]|Bogosian, Eric[70116]\n",
        "        reviews: total: 8  downloaded: 8  avg rating: 4\n",
        "            2002-5-13  cutomer: A2IGOA66Y6O8TQ  rating: 5  votes:   3  helpful:   2\n",
        "            2002-6-17  cutomer: A2OIN4AUH84KNE  rating: 5  votes:   2  helpful:   1\n",
        "            2003-1-2  cutomer: A2HN382JNT1CIU  rating: 1  votes:   6  helpful:   1\n",
        "            2003-6-7  cutomer: A2FDJ79LDU4O18  rating: 4  votes:   1  helpful:   1\n",
        "            2003-6-27  cutomer: A39QMV9ZKRJXO5  rating: 4  votes:   1  helpful:   1\n",
        "            2004-2-17  cutomer:  AUUVMSTQ1TXDI  rating: 1  votes:   2  helpful:   0\n",
        "            2004-2-24  cutomer: A2C5K0QTLL9UAT  rating: 5  votes:   2  helpful:   2\n",
        "            2004-10-13  cutomer:  A5XYF0Z3UH4HB  rating: 5  votes:   1  helpful:   1\n",
        "\n",
        "#### Data Entry Format:\n",
        "\n",
        "- **Id**: Product id (number 0, ..., 548551)\n",
        "\n",
        "- **ASIN**: Amazon Standard Identification Number\n",
        "\n",
        "- **title**: Name/title of the product\n",
        "\n",
        "- **group**: Product group (Book, DVD, Video or Music)\n",
        "\n",
        "- **salesrank**: Amazon Salesrank\n",
        "\n",
        "- **similar**: ASINs of co-purchased products (people who buy X also buy Y)\n",
        "\n",
        "- **categories**: Location in product category hierarchy to which the product belongs (separated by |, category id in [])\n",
        "\n",
        "- **reviews**: Product review information: time, user id, rating, total number of votes on the review, total number of helpfulness votes (how many people found the review to be helpful)\n",
        "\n",
        "[Data Source](http://snap.stanford.edu/data/amazon-meta.html)\n",
        "\n",
        "[Data Information](http://snap.stanford.edu/data/amazon-meta.html)"
      ]
    },
    {
      "cell_type": "code",
      "metadata": {
        "id": "X798ZDESOjEF",
        "colab_type": "code",
        "colab": {}
      },
      "source": [
        "# import data processing libraries\n",
        "import pandas as pd\n",
        "import seaborn as sns\n",
        "import sklearn"
      ],
      "execution_count": 0,
      "outputs": []
    },
    {
      "cell_type": "code",
      "metadata": {
        "id": "S6C-hLdtRVYT",
        "colab_type": "code",
        "outputId": "aeabee63-4279-4f56-c4d1-7c7b1a65f6c4",
        "colab": {
          "base_uri": "https://localhost:8080/",
          "height": 52
        }
      },
      "source": [
        "# get version of imported libraries\n",
        "print(f'Pandas version : {pd.__version__}')\n",
        "print(f'sklearn version : {sklearn.__version__}')"
      ],
      "execution_count": 2,
      "outputs": [
        {
          "output_type": "stream",
          "text": [
            "Pandas version : 0.25.3\n",
            "sklearn version : 0.22.1\n"
          ],
          "name": "stdout"
        }
      ]
    },
    {
      "cell_type": "code",
      "metadata": {
        "id": "orI8dGAzdF2l",
        "colab_type": "code",
        "colab": {}
      },
      "source": [
        "# set maximum number of columns, rows and column width for pandas \n",
        "pd.set_option('display.max_columns', None)  # or 1000\n",
        "pd.set_option('display.max_rows', None)  # or 1000\n",
        "pd.set_option('display.max_colwidth', -1)  # or 199"
      ],
      "execution_count": 0,
      "outputs": []
    },
    {
      "cell_type": "code",
      "metadata": {
        "id": "6ldiWiGPRVVh",
        "colab_type": "code",
        "outputId": "e9d9b8d0-a63c-4102-ef26-b25d0968a7d3",
        "colab": {
          "base_uri": "https://localhost:8080/",
          "height": 124
        }
      },
      "source": [
        "# mount google drive to load dataset\n",
        "from google.colab import drive\n",
        "drive.mount('/content/drive')"
      ],
      "execution_count": 4,
      "outputs": [
        {
          "output_type": "stream",
          "text": [
            "Go to this URL in a browser: https://accounts.google.com/o/oauth2/auth?client_id=947318989803-6bn6qk8qdgf4n4g3pfee6491hc0brc4i.apps.googleusercontent.com&redirect_uri=urn%3aietf%3awg%3aoauth%3a2.0%3aoob&response_type=code&scope=email%20https%3a%2f%2fwww.googleapis.com%2fauth%2fdocs.test%20https%3a%2f%2fwww.googleapis.com%2fauth%2fdrive%20https%3a%2f%2fwww.googleapis.com%2fauth%2fdrive.photos.readonly%20https%3a%2f%2fwww.googleapis.com%2fauth%2fpeopleapi.readonly\n",
            "\n",
            "Enter your authorization code:\n",
            "··········\n",
            "Mounted at /content/drive\n"
          ],
          "name": "stdout"
        }
      ]
    },
    {
      "cell_type": "code",
      "metadata": {
        "id": "1cA7YKtFRVR5",
        "colab_type": "code",
        "colab": {}
      },
      "source": [
        "# read data from txt file from google drive\n",
        "master_list = []\n",
        "values = []\n",
        "key = 'Header'\n",
        "\n",
        "with open('/content/drive/My Drive/Colab Notebooks/Takehome Assignments/keepup/data/amazon-meta.txt', encoding='utf8') as amz:\n",
        "    for entry in amz:\n",
        "        if 'Id:' in entry:\n",
        "            master_list.append([key, values])\n",
        "            key = entry.rstrip('\\n')[entry.find(':')+1]\n",
        "            values = []\n",
        "        else:\n",
        "            values.append(entry.rstrip('\\n'))\n",
        "\n",
        "master_list.append([key, values])"
      ],
      "execution_count": 0,
      "outputs": []
    },
    {
      "cell_type": "code",
      "metadata": {
        "id": "wNDGj5J6OTPP",
        "colab_type": "code",
        "outputId": "04a7313f-2235-4f7a-aa11-2c92292195ee",
        "colab": {
          "base_uri": "https://localhost:8080/",
          "height": 726
        }
      },
      "source": [
        "# check data format\n",
        "master_list[:4]"
      ],
      "execution_count": 6,
      "outputs": [
        {
          "output_type": "execute_result",
          "data": {
            "text/plain": [
              "[['Header',\n",
              "  ['# Full information about Amazon Share the Love products',\n",
              "   'Total items: 548552',\n",
              "   '']],\n",
              " [' ', ['ASIN: 0771044445', '  discontinued product', '']],\n",
              " [' ',\n",
              "  ['ASIN: 0827229534',\n",
              "   '  title: Patterns of Preaching: A Sermon Sampler',\n",
              "   '  group: Book',\n",
              "   '  salesrank: 396585',\n",
              "   '  similar: 5  0804215715  156101074X  0687023955  0687074231  082721619X',\n",
              "   '  categories: 2',\n",
              "   '   |Books[283155]|Subjects[1000]|Religion & Spirituality[22]|Christianity[12290]|Clergy[12360]|Preaching[12368]',\n",
              "   '   |Books[283155]|Subjects[1000]|Religion & Spirituality[22]|Christianity[12290]|Clergy[12360]|Sermons[12370]',\n",
              "   '  reviews: total: 2  downloaded: 2  avg rating: 5',\n",
              "   '    2000-7-28  cutomer: A2JW67OY8U6HHK  rating: 5  votes:  10  helpful:   9',\n",
              "   '    2003-12-14  cutomer: A2VE83MZF98ITY  rating: 5  votes:   6  helpful:   5',\n",
              "   '']],\n",
              " [' ',\n",
              "  ['ASIN: 0738700797',\n",
              "   '  title: Candlemas: Feast of Flames',\n",
              "   '  group: Book',\n",
              "   '  salesrank: 168596',\n",
              "   '  similar: 5  0738700827  1567184960  1567182836  0738700525  0738700940',\n",
              "   '  categories: 2',\n",
              "   '   |Books[283155]|Subjects[1000]|Religion & Spirituality[22]|Earth-Based Religions[12472]|Wicca[12484]',\n",
              "   '   |Books[283155]|Subjects[1000]|Religion & Spirituality[22]|Earth-Based Religions[12472]|Witchcraft[12486]',\n",
              "   '  reviews: total: 12  downloaded: 12  avg rating: 4.5',\n",
              "   '    2001-12-16  cutomer: A11NCO6YTE4BTJ  rating: 5  votes:   5  helpful:   4',\n",
              "   '    2002-1-7  cutomer:  A9CQ3PLRNIR83  rating: 4  votes:   5  helpful:   5',\n",
              "   '    2002-1-24  cutomer: A13SG9ACZ9O5IM  rating: 5  votes:   8  helpful:   8',\n",
              "   '    2002-1-28  cutomer: A1BDAI6VEYMAZA  rating: 5  votes:   4  helpful:   4',\n",
              "   '    2002-2-6  cutomer: A2P6KAWXJ16234  rating: 4  votes:  16  helpful:  16',\n",
              "   '    2002-2-14  cutomer:  AMACWC3M7PQFR  rating: 4  votes:   5  helpful:   5',\n",
              "   '    2002-3-23  cutomer: A3GO7UV9XX14D8  rating: 4  votes:   6  helpful:   6',\n",
              "   '    2002-5-23  cutomer: A1GIL64QK68WKL  rating: 5  votes:   8  helpful:   8',\n",
              "   '    2003-2-25  cutomer:  AEOBOF2ONQJWV  rating: 5  votes:   8  helpful:   5',\n",
              "   '    2003-11-25  cutomer: A3IGHTES8ME05L  rating: 5  votes:   5  helpful:   5',\n",
              "   '    2004-2-11  cutomer: A1CP26N8RHYVVO  rating: 1  votes:  13  helpful:   9',\n",
              "   '    2005-2-7  cutomer:  ANEIANH0WAT9D  rating: 5  votes:   1  helpful:   1',\n",
              "   '']]]"
            ]
          },
          "metadata": {
            "tags": []
          },
          "execution_count": 6
        }
      ]
    },
    {
      "cell_type": "markdown",
      "metadata": {
        "id": "djGqbEYyTh4G",
        "colab_type": "text"
      },
      "source": [
        "## Data Wrangling"
      ]
    },
    {
      "cell_type": "code",
      "metadata": {
        "id": "IThlP6JORVO1",
        "colab_type": "code",
        "colab": {}
      },
      "source": [
        "# convert data into pandas dataframe\n",
        "df = pd.DataFrame(master_list[1:])"
      ],
      "execution_count": 0,
      "outputs": []
    },
    {
      "cell_type": "code",
      "metadata": {
        "id": "FqonyUFcRVLZ",
        "colab_type": "code",
        "outputId": "b1d61932-3275-4f50-ef2b-acd62af1fce7",
        "colab": {
          "base_uri": "https://localhost:8080/",
          "height": 509
        }
      },
      "source": [
        "# check out the data\n",
        "df.head()"
      ],
      "execution_count": 8,
      "outputs": [
        {
          "output_type": "execute_result",
          "data": {
            "text/html": [
              "<div>\n",
              "<style scoped>\n",
              "    .dataframe tbody tr th:only-of-type {\n",
              "        vertical-align: middle;\n",
              "    }\n",
              "\n",
              "    .dataframe tbody tr th {\n",
              "        vertical-align: top;\n",
              "    }\n",
              "\n",
              "    .dataframe thead th {\n",
              "        text-align: right;\n",
              "    }\n",
              "</style>\n",
              "<table border=\"1\" class=\"dataframe\">\n",
              "  <thead>\n",
              "    <tr style=\"text-align: right;\">\n",
              "      <th></th>\n",
              "      <th>0</th>\n",
              "      <th>1</th>\n",
              "    </tr>\n",
              "  </thead>\n",
              "  <tbody>\n",
              "    <tr>\n",
              "      <th>0</th>\n",
              "      <td></td>\n",
              "      <td>[ASIN: 0771044445,   discontinued product, ]</td>\n",
              "    </tr>\n",
              "    <tr>\n",
              "      <th>1</th>\n",
              "      <td></td>\n",
              "      <td>[ASIN: 0827229534,   title: Patterns of Preaching: A Sermon Sampler,   group: Book,   salesrank: 396585,   similar: 5  0804215715  156101074X  0687023955  0687074231  082721619X,   categories: 2,    |Books[283155]|Subjects[1000]|Religion &amp; Spirituality[22]|Christianity[12290]|Clergy[12360]|Preaching[12368],    |Books[283155]|Subjects[1000]|Religion &amp; Spirituality[22]|Christianity[12290]|Clergy[12360]|Sermons[12370],   reviews: total: 2  downloaded: 2  avg rating: 5,     2000-7-28  cutomer: A2JW67OY8U6HHK  rating: 5  votes:  10  helpful:   9,     2003-12-14  cutomer: A2VE83MZF98ITY  rating: 5  votes:   6  helpful:   5, ]</td>\n",
              "    </tr>\n",
              "    <tr>\n",
              "      <th>2</th>\n",
              "      <td></td>\n",
              "      <td>[ASIN: 0738700797,   title: Candlemas: Feast of Flames,   group: Book,   salesrank: 168596,   similar: 5  0738700827  1567184960  1567182836  0738700525  0738700940,   categories: 2,    |Books[283155]|Subjects[1000]|Religion &amp; Spirituality[22]|Earth-Based Religions[12472]|Wicca[12484],    |Books[283155]|Subjects[1000]|Religion &amp; Spirituality[22]|Earth-Based Religions[12472]|Witchcraft[12486],   reviews: total: 12  downloaded: 12  avg rating: 4.5,     2001-12-16  cutomer: A11NCO6YTE4BTJ  rating: 5  votes:   5  helpful:   4,     2002-1-7  cutomer:  A9CQ3PLRNIR83  rating: 4  votes:   5  helpful:   5,     2002-1-24  cutomer: A13SG9ACZ9O5IM  rating: 5  votes:   8  helpful:   8,     2002-1-28  cutomer: A1BDAI6VEYMAZA  rating: 5  votes:   4  helpful:   4,     2002-2-6  cutomer: A2P6KAWXJ16234  rating: 4  votes:  16  helpful:  16,     2002-2-14  cutomer:  AMACWC3M7PQFR  rating: 4  votes:   5  helpful:   5,     2002-3-23  cutomer: A3GO7UV9XX14D8  rating: 4  votes:   6  helpful:   6,     2002-5-23  cutomer: A1GIL64QK68WKL  rating: 5  votes:   8  helpful:   8,     2003-2-25  cutomer:  AEOBOF2ONQJWV  rating: 5  votes:   8  helpful:   5,     2003-11-25  cutomer: A3IGHTES8ME05L  rating: 5  votes:   5  helpful:   5,     2004-2-11  cutomer: A1CP26N8RHYVVO  rating: 1  votes:  13  helpful:   9,     2005-2-7  cutomer:  ANEIANH0WAT9D  rating: 5  votes:   1  helpful:   1, ]</td>\n",
              "    </tr>\n",
              "    <tr>\n",
              "      <th>3</th>\n",
              "      <td></td>\n",
              "      <td>[ASIN: 0486287785,   title: World War II Allied Fighter Planes Trading Cards,   group: Book,   salesrank: 1270652,   similar: 0,   categories: 1,    |Books[283155]|Subjects[1000]|Home &amp; Garden[48]|Crafts &amp; Hobbies[5126]|General[5144],   reviews: total: 1  downloaded: 1  avg rating: 5,     2003-7-10  cutomer: A3IDGASRQAW8B2  rating: 5  votes:   2  helpful:   2, ]</td>\n",
              "    </tr>\n",
              "    <tr>\n",
              "      <th>4</th>\n",
              "      <td></td>\n",
              "      <td>[ASIN: 0842328327,   title: Life Application Bible Commentary: 1 and 2 Timothy and Titus,   group: Book,   salesrank: 631289,   similar: 5  0842328130  0830818138  0842330313  0842328610  0842328572,   categories: 5,    |Books[283155]|Subjects[1000]|Religion &amp; Spirituality[22]|Christianity[12290]|Reference[172810]|Commentaries[12155]|New Testament[12159],    |Books[283155]|Subjects[1000]|Religion &amp; Spirituality[22]|Christianity[12290]|Christian Living[12333]|Discipleship[12335],    |Books[283155]|Subjects[1000]|Religion &amp; Spirituality[22]|Christianity[12290]|Bibles[12059]|Translations[764432]|Life Application[572080],    |Books[283155]|Subjects[1000]|Religion &amp; Spirituality[22]|Bible &amp; Other Sacred Texts[12056]|Bible[764430]|New Testament[572082],    |Books[283155]|Subjects[1000]|Religion &amp; Spirituality[22]|Christianity[12290]|Bibles[12059]|Study Guides, History &amp; Reference[764438]|General[572094],   reviews: total: 1  downloaded: 1  avg rating: 4,     2004-8-19  cutomer: A2591BUPXCS705  rating: 4  votes:   1  helpful:   1, ]</td>\n",
              "    </tr>\n",
              "  </tbody>\n",
              "</table>\n",
              "</div>"
            ],
            "text/plain": [
              "   0  \\\n",
              "0      \n",
              "1      \n",
              "2      \n",
              "3      \n",
              "4      \n",
              "\n",
              "                                                                                                                                                                                                                                                                                                                                                                                                                                                                                                                                                                                                                                                                                                                                                                                                                                                                                                                                                                                                                                                                                                                                                                                                                                                                                                                                                                                                                                 1  \n",
              "0  [ASIN: 0771044445,   discontinued product, ]                                                                                                                                                                                                                                                                                                                                                                                                                                                                                                                                                                                                                                                                                                                                                                                                                                                                                                                                                                                                                                                                                                                                                                                                                                                                                                                                                                                     \n",
              "1  [ASIN: 0827229534,   title: Patterns of Preaching: A Sermon Sampler,   group: Book,   salesrank: 396585,   similar: 5  0804215715  156101074X  0687023955  0687074231  082721619X,   categories: 2,    |Books[283155]|Subjects[1000]|Religion & Spirituality[22]|Christianity[12290]|Clergy[12360]|Preaching[12368],    |Books[283155]|Subjects[1000]|Religion & Spirituality[22]|Christianity[12290]|Clergy[12360]|Sermons[12370],   reviews: total: 2  downloaded: 2  avg rating: 5,     2000-7-28  cutomer: A2JW67OY8U6HHK  rating: 5  votes:  10  helpful:   9,     2003-12-14  cutomer: A2VE83MZF98ITY  rating: 5  votes:   6  helpful:   5, ]                                                                                                                                                                                                                                                                                                                                                                                                                                                                                                                                                                                                                                                                                                                                                                              \n",
              "2  [ASIN: 0738700797,   title: Candlemas: Feast of Flames,   group: Book,   salesrank: 168596,   similar: 5  0738700827  1567184960  1567182836  0738700525  0738700940,   categories: 2,    |Books[283155]|Subjects[1000]|Religion & Spirituality[22]|Earth-Based Religions[12472]|Wicca[12484],    |Books[283155]|Subjects[1000]|Religion & Spirituality[22]|Earth-Based Religions[12472]|Witchcraft[12486],   reviews: total: 12  downloaded: 12  avg rating: 4.5,     2001-12-16  cutomer: A11NCO6YTE4BTJ  rating: 5  votes:   5  helpful:   4,     2002-1-7  cutomer:  A9CQ3PLRNIR83  rating: 4  votes:   5  helpful:   5,     2002-1-24  cutomer: A13SG9ACZ9O5IM  rating: 5  votes:   8  helpful:   8,     2002-1-28  cutomer: A1BDAI6VEYMAZA  rating: 5  votes:   4  helpful:   4,     2002-2-6  cutomer: A2P6KAWXJ16234  rating: 4  votes:  16  helpful:  16,     2002-2-14  cutomer:  AMACWC3M7PQFR  rating: 4  votes:   5  helpful:   5,     2002-3-23  cutomer: A3GO7UV9XX14D8  rating: 4  votes:   6  helpful:   6,     2002-5-23  cutomer: A1GIL64QK68WKL  rating: 5  votes:   8  helpful:   8,     2003-2-25  cutomer:  AEOBOF2ONQJWV  rating: 5  votes:   8  helpful:   5,     2003-11-25  cutomer: A3IGHTES8ME05L  rating: 5  votes:   5  helpful:   5,     2004-2-11  cutomer: A1CP26N8RHYVVO  rating: 1  votes:  13  helpful:   9,     2005-2-7  cutomer:  ANEIANH0WAT9D  rating: 5  votes:   1  helpful:   1, ]  \n",
              "3  [ASIN: 0486287785,   title: World War II Allied Fighter Planes Trading Cards,   group: Book,   salesrank: 1270652,   similar: 0,   categories: 1,    |Books[283155]|Subjects[1000]|Home & Garden[48]|Crafts & Hobbies[5126]|General[5144],   reviews: total: 1  downloaded: 1  avg rating: 5,     2003-7-10  cutomer: A3IDGASRQAW8B2  rating: 5  votes:   2  helpful:   2, ]                                                                                                                                                                                                                                                                                                                                                                                                                                                                                                                                                                                                                                                                                                                                                                                                                                                                                                                                                                                                                                                     \n",
              "4  [ASIN: 0842328327,   title: Life Application Bible Commentary: 1 and 2 Timothy and Titus,   group: Book,   salesrank: 631289,   similar: 5  0842328130  0830818138  0842330313  0842328610  0842328572,   categories: 5,    |Books[283155]|Subjects[1000]|Religion & Spirituality[22]|Christianity[12290]|Reference[172810]|Commentaries[12155]|New Testament[12159],    |Books[283155]|Subjects[1000]|Religion & Spirituality[22]|Christianity[12290]|Christian Living[12333]|Discipleship[12335],    |Books[283155]|Subjects[1000]|Religion & Spirituality[22]|Christianity[12290]|Bibles[12059]|Translations[764432]|Life Application[572080],    |Books[283155]|Subjects[1000]|Religion & Spirituality[22]|Bible & Other Sacred Texts[12056]|Bible[764430]|New Testament[572082],    |Books[283155]|Subjects[1000]|Religion & Spirituality[22]|Christianity[12290]|Bibles[12059]|Study Guides, History & Reference[764438]|General[572094],   reviews: total: 1  downloaded: 1  avg rating: 4,     2004-8-19  cutomer: A2591BUPXCS705  rating: 4  votes:   1  helpful:   1, ]                                                                                                                                                                                                                                                                                                                                                "
            ]
          },
          "metadata": {
            "tags": []
          },
          "execution_count": 8
        }
      ]
    },
    {
      "cell_type": "code",
      "metadata": {
        "id": "9fECoZOURU_z",
        "colab_type": "code",
        "colab": {}
      },
      "source": [
        "# name the columns\n",
        "df.columns = ['Id', 'txt']"
      ],
      "execution_count": 0,
      "outputs": []
    },
    {
      "cell_type": "code",
      "metadata": {
        "id": "3WooObzsbE7b",
        "colab_type": "code",
        "outputId": "7aa751fe-f582-4bf8-8a90-63f652c5f176",
        "colab": {
          "base_uri": "https://localhost:8080/",
          "height": 89
        }
      },
      "source": [
        "# check data at index location 3\n",
        "df.iloc[3]"
      ],
      "execution_count": 10,
      "outputs": [
        {
          "output_type": "execute_result",
          "data": {
            "text/plain": [
              "Id                                                                                                                                                                                                                                                                                                                                                                                 \n",
              "txt    [ASIN: 0486287785,   title: World War II Allied Fighter Planes Trading Cards,   group: Book,   salesrank: 1270652,   similar: 0,   categories: 1,    |Books[283155]|Subjects[1000]|Home & Garden[48]|Crafts & Hobbies[5126]|General[5144],   reviews: total: 1  downloaded: 1  avg rating: 5,     2003-7-10  cutomer: A3IDGASRQAW8B2  rating: 5  votes:   2  helpful:   2, ]\n",
              "Name: 3, dtype: object"
            ]
          },
          "metadata": {
            "tags": []
          },
          "execution_count": 10
        }
      ]
    },
    {
      "cell_type": "code",
      "metadata": {
        "id": "_SdynQVQXynB",
        "colab_type": "code",
        "colab": {}
      },
      "source": [
        "# split the dataframe into appropriate columns\n",
        "def split(text):\n",
        "    review_dict = {}\n",
        "    i = 0\n",
        "    while i < len(text):\n",
        "        entry = text[i]\n",
        "        i = i+1\n",
        "        if entry.find('Id:') >= 0:\n",
        "            review_dict['Id'] = entry[entry.find(':')+1:]\n",
        "        if entry.find('ASIN:') >= 0:\n",
        "            review_dict['ASIN'] = entry[entry.find(':')+1:]\n",
        "        if entry.find('title:') >= 0:\n",
        "            review_dict['title'] = entry[entry.find(':')+1:]\n",
        "        if entry.find('group:') >= 0:\n",
        "            review_dict['group'] = entry[entry.find(':')+1:]\n",
        "        if entry.find('salesrank:') >= 0:\n",
        "            review_dict['salesrank'] = entry[entry.find(':')+1:]\n",
        "        if entry.find('similar:') >= 0:\n",
        "            review_dict['similar'] = entry[entry.find(':')+1:]\n",
        "        if entry.find('categories:') >= 0:\n",
        "            all_cat = []\n",
        "            catexists = True\n",
        "            while ((i<len(text)) & (catexists)):\n",
        "                entry = text[i]\n",
        "                if entry.find('reviews:') > 0:\n",
        "                    catexists = False\n",
        "                else:\n",
        "                    all_cat.append(entry)\n",
        "                i = i+1\n",
        "            review_dict['categories'] = all_cat\n",
        "        if entry.find('reviews:') > 0:\n",
        "            review_dict['total_reviews'] = entry[entry.find('total:')+6:entry.find('downloaded:')]\n",
        "            review_dict['downloads'] = entry[entry.find('ded:')+4:entry.find('avg ra')]\n",
        "            review_dict['avg_rating'] = entry[entry.find('ting:')+5:]\n",
        "            all_reviews = []\n",
        "            while i < len(text):\n",
        "                entry = text[i]\n",
        "                all_reviews.append(entry)\n",
        "                i = i+1\n",
        "            review_dict['reviews'] = all_reviews\n",
        "    return review_dict"
      ],
      "execution_count": 0,
      "outputs": []
    },
    {
      "cell_type": "code",
      "metadata": {
        "id": "8YnROhXfuaxh",
        "colab_type": "code",
        "outputId": "5bd79612-6b7c-40e8-fb4e-7a788b0c82cc",
        "colab": {
          "base_uri": "https://localhost:8080/",
          "height": 1000
        }
      },
      "source": [
        "# verify if the split function is working as expected\n",
        "df.loc[4:6]['txt'].map(lambda x:split(x)).apply(pd.Series)"
      ],
      "execution_count": 12,
      "outputs": [
        {
          "output_type": "execute_result",
          "data": {
            "text/html": [
              "<div>\n",
              "<style scoped>\n",
              "    .dataframe tbody tr th:only-of-type {\n",
              "        vertical-align: middle;\n",
              "    }\n",
              "\n",
              "    .dataframe tbody tr th {\n",
              "        vertical-align: top;\n",
              "    }\n",
              "\n",
              "    .dataframe thead th {\n",
              "        text-align: right;\n",
              "    }\n",
              "</style>\n",
              "<table border=\"1\" class=\"dataframe\">\n",
              "  <thead>\n",
              "    <tr style=\"text-align: right;\">\n",
              "      <th></th>\n",
              "      <th>ASIN</th>\n",
              "      <th>title</th>\n",
              "      <th>group</th>\n",
              "      <th>salesrank</th>\n",
              "      <th>similar</th>\n",
              "      <th>categories</th>\n",
              "      <th>total_reviews</th>\n",
              "      <th>downloads</th>\n",
              "      <th>avg_rating</th>\n",
              "      <th>reviews</th>\n",
              "    </tr>\n",
              "  </thead>\n",
              "  <tbody>\n",
              "    <tr>\n",
              "      <th>4</th>\n",
              "      <td>0842328327</td>\n",
              "      <td>Life Application Bible Commentary: 1 and 2 Timothy and Titus</td>\n",
              "      <td>Book</td>\n",
              "      <td>631289</td>\n",
              "      <td>5  0842328130  0830818138  0842330313  0842328610  0842328572</td>\n",
              "      <td>[   |Books[283155]|Subjects[1000]|Religion &amp; Spirituality[22]|Christianity[12290]|Reference[172810]|Commentaries[12155]|New Testament[12159],    |Books[283155]|Subjects[1000]|Religion &amp; Spirituality[22]|Christianity[12290]|Christian Living[12333]|Discipleship[12335],    |Books[283155]|Subjects[1000]|Religion &amp; Spirituality[22]|Christianity[12290]|Bibles[12059]|Translations[764432]|Life Application[572080],    |Books[283155]|Subjects[1000]|Religion &amp; Spirituality[22]|Bible &amp; Other Sacred Texts[12056]|Bible[764430]|New Testament[572082],    |Books[283155]|Subjects[1000]|Religion &amp; Spirituality[22]|Christianity[12290]|Bibles[12059]|Study Guides, History &amp; Reference[764438]|General[572094]]</td>\n",
              "      <td>1</td>\n",
              "      <td>1</td>\n",
              "      <td>4</td>\n",
              "      <td>[    2004-8-19  cutomer: A2591BUPXCS705  rating: 4  votes:   1  helpful:   1, ]</td>\n",
              "    </tr>\n",
              "    <tr>\n",
              "      <th>5</th>\n",
              "      <td>1577943082</td>\n",
              "      <td>Prayers That Avail Much for Business: Executive</td>\n",
              "      <td>Book</td>\n",
              "      <td>455160</td>\n",
              "      <td>5  157794349X  0892749504  1577941829  0892749563  1577946006</td>\n",
              "      <td>[   |Books[283155]|Subjects[1000]|Religion &amp; Spirituality[22]|Christianity[12290]|Worship &amp; Devotion[12465]|Prayerbooks[12470],    |Books[283155]|Subjects[1000]|Religion &amp; Spirituality[22]|Christianity[12290]|Christian Living[12333]|Business[297488]]</td>\n",
              "      <td>0</td>\n",
              "      <td>0</td>\n",
              "      <td>0</td>\n",
              "      <td>[]</td>\n",
              "    </tr>\n",
              "    <tr>\n",
              "      <th>6</th>\n",
              "      <td>0486220125</td>\n",
              "      <td>How the Other Half Lives: Studies Among the Tenements of New York</td>\n",
              "      <td>Book</td>\n",
              "      <td>188784</td>\n",
              "      <td>5  0486401960  0452283612  0486229076  0714840343  0374528993</td>\n",
              "      <td>[   |Books[283155]|Subjects[1000]|Arts &amp; Photography[1]|Photography[2020]|Photo Essays[2082],    |Books[283155]|Subjects[1000]|History[9]|Americas[4808]|United States[4853]|General[4870],    |Books[283155]|Subjects[1000]|History[9]|Jewish[4992]|General[4993],    |Books[283155]|Subjects[1000]|Nonfiction[53]|Social Sciences[11232]|Sociology[11288]|Urban[11296],    |[172282]|Categories[493964]|Camera &amp; Photo[502394]|Photography Books[733540]|Photo Essays[733676]]</td>\n",
              "      <td>17</td>\n",
              "      <td>17</td>\n",
              "      <td>4</td>\n",
              "      <td>[    1997-7-4  cutomer:  ATVPDKIKX0DER  rating: 5  votes:  12  helpful:  11,     1998-10-11  cutomer:  AUEZ7NVOEHYRY  rating: 5  votes:  13  helpful:  12,     1999-4-15  cutomer:  ATVPDKIKX0DER  rating: 5  votes:  18  helpful:   7,     2000-1-4  cutomer:  AJYG6ZJUQPZ9M  rating: 4  votes:  14  helpful:  10,     2000-2-8  cutomer: A2ESGJTTLJWIAK  rating: 5  votes:  17  helpful:  11,     2000-4-28  cutomer: A2CHULHAO3A9BY  rating: 5  votes:  23  helpful:  16,     2001-10-9  cutomer: A3BNWP7ATVP045  rating: 5  votes:   7  helpful:   6,     2002-9-26  cutomer:   AVOQ12GBXJ3F  rating: 2  votes:   6  helpful:   0,     2002-11-8  cutomer: A2NJO6YE954DBH  rating: 5  votes:  23  helpful:  21,     2002-12-4  cutomer: A393PYR83LT7R8  rating: 1  votes:   8  helpful:   8,     2003-4-21  cutomer:  AVY10FEFM6OBC  rating: 4  votes:   7  helpful:   1,     2003-7-24  cutomer: A2OSPW11FVXTU6  rating: 4  votes:   3  helpful:   2,     2003-10-10  cutomer: A32Z5HQGTG5V49  rating: 4  votes:   7  helpful:   4,     2003-10-21  cutomer: A2WSI8HOWHFDOT  rating: 5  votes:  27  helpful:  25,     2003-10-26  cutomer: A3BGC9MSXGM0WH  rating: 4  votes:  13  helpful:  10,     2003-12-30  cutomer: A1IU7S4HCK1XK0  rating: 5  votes:   4  helpful:   4,     2004-5-1  cutomer: A30JTDN020MAJB  rating: 4  votes:   4  helpful:   4, ]</td>\n",
              "    </tr>\n",
              "  </tbody>\n",
              "</table>\n",
              "</div>"
            ],
            "text/plain": [
              "          ASIN  \\\n",
              "4   0842328327   \n",
              "5   1577943082   \n",
              "6   0486220125   \n",
              "\n",
              "                                                                title  group  \\\n",
              "4   Life Application Bible Commentary: 1 and 2 Timothy and Titus        Book   \n",
              "5   Prayers That Avail Much for Business: Executive                     Book   \n",
              "6   How the Other Half Lives: Studies Among the Tenements of New York   Book   \n",
              "\n",
              "  salesrank                                                         similar  \\\n",
              "4   631289    5  0842328130  0830818138  0842330313  0842328610  0842328572   \n",
              "5   455160    5  157794349X  0892749504  1577941829  0892749563  1577946006   \n",
              "6   188784    5  0486401960  0452283612  0486229076  0714840343  0374528993   \n",
              "\n",
              "                                                                                                                                                                                                                                                                                                                                                                                                                                                                                                                                                                                                                                                                                                                categories  \\\n",
              "4  [   |Books[283155]|Subjects[1000]|Religion & Spirituality[22]|Christianity[12290]|Reference[172810]|Commentaries[12155]|New Testament[12159],    |Books[283155]|Subjects[1000]|Religion & Spirituality[22]|Christianity[12290]|Christian Living[12333]|Discipleship[12335],    |Books[283155]|Subjects[1000]|Religion & Spirituality[22]|Christianity[12290]|Bibles[12059]|Translations[764432]|Life Application[572080],    |Books[283155]|Subjects[1000]|Religion & Spirituality[22]|Bible & Other Sacred Texts[12056]|Bible[764430]|New Testament[572082],    |Books[283155]|Subjects[1000]|Religion & Spirituality[22]|Christianity[12290]|Bibles[12059]|Study Guides, History & Reference[764438]|General[572094]]   \n",
              "5  [   |Books[283155]|Subjects[1000]|Religion & Spirituality[22]|Christianity[12290]|Worship & Devotion[12465]|Prayerbooks[12470],    |Books[283155]|Subjects[1000]|Religion & Spirituality[22]|Christianity[12290]|Christian Living[12333]|Business[297488]]                                                                                                                                                                                                                                                                                                                                                                                                                                                                \n",
              "6  [   |Books[283155]|Subjects[1000]|Arts & Photography[1]|Photography[2020]|Photo Essays[2082],    |Books[283155]|Subjects[1000]|History[9]|Americas[4808]|United States[4853]|General[4870],    |Books[283155]|Subjects[1000]|History[9]|Jewish[4992]|General[4993],    |Books[283155]|Subjects[1000]|Nonfiction[53]|Social Sciences[11232]|Sociology[11288]|Urban[11296],    |[172282]|Categories[493964]|Camera & Photo[502394]|Photography Books[733540]|Photo Essays[733676]]                                                                                                                                                                                                                                          \n",
              "\n",
              "  total_reviews downloads avg_rating  \\\n",
              "4   1             1         4          \n",
              "5   0             0         0          \n",
              "6   17            17        4          \n",
              "\n",
              "                                                                                                                                                                                                                                                                                                                                                                                                                                                                                                                                                                                                                                                                                                                                                                                                                                                                                                                                                                                                                                                                                                                                                                                                                                                                                                                                                            reviews  \n",
              "4  [    2004-8-19  cutomer: A2591BUPXCS705  rating: 4  votes:   1  helpful:   1, ]                                                                                                                                                                                                                                                                                                                                                                                                                                                                                                                                                                                                                                                                                                                                                                                                                                                                                                                                                                                                                                                                                                                                                                                                                                                                                   \n",
              "5  []                                                                                                                                                                                                                                                                                                                                                                                                                                                                                                                                                                                                                                                                                                                                                                                                                                                                                                                                                                                                                                                                                                                                                                                                                                                                                                                                                                \n",
              "6  [    1997-7-4  cutomer:  ATVPDKIKX0DER  rating: 5  votes:  12  helpful:  11,     1998-10-11  cutomer:  AUEZ7NVOEHYRY  rating: 5  votes:  13  helpful:  12,     1999-4-15  cutomer:  ATVPDKIKX0DER  rating: 5  votes:  18  helpful:   7,     2000-1-4  cutomer:  AJYG6ZJUQPZ9M  rating: 4  votes:  14  helpful:  10,     2000-2-8  cutomer: A2ESGJTTLJWIAK  rating: 5  votes:  17  helpful:  11,     2000-4-28  cutomer: A2CHULHAO3A9BY  rating: 5  votes:  23  helpful:  16,     2001-10-9  cutomer: A3BNWP7ATVP045  rating: 5  votes:   7  helpful:   6,     2002-9-26  cutomer:   AVOQ12GBXJ3F  rating: 2  votes:   6  helpful:   0,     2002-11-8  cutomer: A2NJO6YE954DBH  rating: 5  votes:  23  helpful:  21,     2002-12-4  cutomer: A393PYR83LT7R8  rating: 1  votes:   8  helpful:   8,     2003-4-21  cutomer:  AVY10FEFM6OBC  rating: 4  votes:   7  helpful:   1,     2003-7-24  cutomer: A2OSPW11FVXTU6  rating: 4  votes:   3  helpful:   2,     2003-10-10  cutomer: A32Z5HQGTG5V49  rating: 4  votes:   7  helpful:   4,     2003-10-21  cutomer: A2WSI8HOWHFDOT  rating: 5  votes:  27  helpful:  25,     2003-10-26  cutomer: A3BGC9MSXGM0WH  rating: 4  votes:  13  helpful:  10,     2003-12-30  cutomer: A1IU7S4HCK1XK0  rating: 5  votes:   4  helpful:   4,     2004-5-1  cutomer: A30JTDN020MAJB  rating: 4  votes:   4  helpful:   4, ]  "
            ]
          },
          "metadata": {
            "tags": []
          },
          "execution_count": 12
        }
      ]
    },
    {
      "cell_type": "code",
      "metadata": {
        "id": "W3I5RjD1un_4",
        "colab_type": "code",
        "colab": {}
      },
      "source": [
        "# apply split function to the dataframe\n",
        "df_reviews = df['txt'].map(lambda x:split(x)).apply(pd.Series)"
      ],
      "execution_count": 0,
      "outputs": []
    },
    {
      "cell_type": "code",
      "metadata": {
        "id": "SQP7WLVN2lVg",
        "colab_type": "code",
        "outputId": "33054176-c8b2-4e86-fc18-01be15560bf9",
        "colab": {
          "base_uri": "https://localhost:8080/",
          "height": 276
        }
      },
      "source": [
        "# get summary of the data\n",
        "df_reviews.info()"
      ],
      "execution_count": 14,
      "outputs": [
        {
          "output_type": "stream",
          "text": [
            "<class 'pandas.core.frame.DataFrame'>\n",
            "RangeIndex: 548556 entries, 0 to 548555\n",
            "Data columns (total 10 columns):\n",
            "ASIN             548552 non-null object\n",
            "title            542680 non-null object\n",
            "group            542684 non-null object\n",
            "salesrank        542684 non-null object\n",
            "similar          542684 non-null object\n",
            "categories       542684 non-null object\n",
            "total_reviews    542684 non-null object\n",
            "downloads        542684 non-null object\n",
            "avg_rating       542684 non-null object\n",
            "reviews          542684 non-null object\n",
            "dtypes: object(10)\n",
            "memory usage: 41.9+ MB\n"
          ],
          "name": "stdout"
        }
      ]
    },
    {
      "cell_type": "code",
      "metadata": {
        "id": "Q5dWzT670RJg",
        "colab_type": "code",
        "outputId": "daf6fb51-7b8d-4280-c73b-5c1c58865054",
        "colab": {
          "base_uri": "https://localhost:8080/",
          "height": 207
        }
      },
      "source": [
        "# check for null values\n",
        "df_reviews.isnull().sum()"
      ],
      "execution_count": 15,
      "outputs": [
        {
          "output_type": "execute_result",
          "data": {
            "text/plain": [
              "ASIN             4   \n",
              "title            5876\n",
              "group            5872\n",
              "salesrank        5872\n",
              "similar          5872\n",
              "categories       5872\n",
              "total_reviews    5872\n",
              "downloads        5872\n",
              "avg_rating       5872\n",
              "reviews          5872\n",
              "dtype: int64"
            ]
          },
          "metadata": {
            "tags": []
          },
          "execution_count": 15
        }
      ]
    },
    {
      "cell_type": "code",
      "metadata": {
        "id": "ffZIPieVnOR9",
        "colab_type": "code",
        "outputId": "e43372b5-cbd4-4ecd-aa45-d824cd825cec",
        "colab": {
          "base_uri": "https://localhost:8080/",
          "height": 198
        }
      },
      "source": [
        "# preview null value rows\n",
        "df_reviews[df_reviews.title.isnull()].head()"
      ],
      "execution_count": 16,
      "outputs": [
        {
          "output_type": "execute_result",
          "data": {
            "text/html": [
              "<div>\n",
              "<style scoped>\n",
              "    .dataframe tbody tr th:only-of-type {\n",
              "        vertical-align: middle;\n",
              "    }\n",
              "\n",
              "    .dataframe tbody tr th {\n",
              "        vertical-align: top;\n",
              "    }\n",
              "\n",
              "    .dataframe thead th {\n",
              "        text-align: right;\n",
              "    }\n",
              "</style>\n",
              "<table border=\"1\" class=\"dataframe\">\n",
              "  <thead>\n",
              "    <tr style=\"text-align: right;\">\n",
              "      <th></th>\n",
              "      <th>ASIN</th>\n",
              "      <th>title</th>\n",
              "      <th>group</th>\n",
              "      <th>salesrank</th>\n",
              "      <th>similar</th>\n",
              "      <th>categories</th>\n",
              "      <th>total_reviews</th>\n",
              "      <th>downloads</th>\n",
              "      <th>avg_rating</th>\n",
              "      <th>reviews</th>\n",
              "    </tr>\n",
              "  </thead>\n",
              "  <tbody>\n",
              "    <tr>\n",
              "      <th>0</th>\n",
              "      <td>0771044445</td>\n",
              "      <td>NaN</td>\n",
              "      <td>NaN</td>\n",
              "      <td>NaN</td>\n",
              "      <td>NaN</td>\n",
              "      <td>NaN</td>\n",
              "      <td>NaN</td>\n",
              "      <td>NaN</td>\n",
              "      <td>NaN</td>\n",
              "      <td>NaN</td>\n",
              "    </tr>\n",
              "    <tr>\n",
              "      <th>298</th>\n",
              "      <td>1892866315</td>\n",
              "      <td>NaN</td>\n",
              "      <td>NaN</td>\n",
              "      <td>NaN</td>\n",
              "      <td>NaN</td>\n",
              "      <td>NaN</td>\n",
              "      <td>NaN</td>\n",
              "      <td>NaN</td>\n",
              "      <td>NaN</td>\n",
              "      <td>NaN</td>\n",
              "    </tr>\n",
              "    <tr>\n",
              "      <th>355</th>\n",
              "      <td>B00004TAU6</td>\n",
              "      <td>NaN</td>\n",
              "      <td>NaN</td>\n",
              "      <td>NaN</td>\n",
              "      <td>NaN</td>\n",
              "      <td>NaN</td>\n",
              "      <td>NaN</td>\n",
              "      <td>NaN</td>\n",
              "      <td>NaN</td>\n",
              "      <td>NaN</td>\n",
              "    </tr>\n",
              "    <tr>\n",
              "      <th>357</th>\n",
              "      <td>B00004TAU4</td>\n",
              "      <td>NaN</td>\n",
              "      <td>NaN</td>\n",
              "      <td>NaN</td>\n",
              "      <td>NaN</td>\n",
              "      <td>NaN</td>\n",
              "      <td>NaN</td>\n",
              "      <td>NaN</td>\n",
              "      <td>NaN</td>\n",
              "      <td>NaN</td>\n",
              "    </tr>\n",
              "    <tr>\n",
              "      <th>523</th>\n",
              "      <td>0740724770</td>\n",
              "      <td>NaN</td>\n",
              "      <td>NaN</td>\n",
              "      <td>NaN</td>\n",
              "      <td>NaN</td>\n",
              "      <td>NaN</td>\n",
              "      <td>NaN</td>\n",
              "      <td>NaN</td>\n",
              "      <td>NaN</td>\n",
              "      <td>NaN</td>\n",
              "    </tr>\n",
              "  </tbody>\n",
              "</table>\n",
              "</div>"
            ],
            "text/plain": [
              "            ASIN title group salesrank similar categories total_reviews  \\\n",
              "0     0771044445  NaN   NaN   NaN       NaN     NaN        NaN            \n",
              "298   1892866315  NaN   NaN   NaN       NaN     NaN        NaN            \n",
              "355   B00004TAU6  NaN   NaN   NaN       NaN     NaN        NaN            \n",
              "357   B00004TAU4  NaN   NaN   NaN       NaN     NaN        NaN            \n",
              "523   0740724770  NaN   NaN   NaN       NaN     NaN        NaN            \n",
              "\n",
              "    downloads avg_rating reviews  \n",
              "0    NaN       NaN        NaN     \n",
              "298  NaN       NaN        NaN     \n",
              "355  NaN       NaN        NaN     \n",
              "357  NaN       NaN        NaN     \n",
              "523  NaN       NaN        NaN     "
            ]
          },
          "metadata": {
            "tags": []
          },
          "execution_count": 16
        }
      ]
    },
    {
      "cell_type": "code",
      "metadata": {
        "id": "KMQ0uGc02TnS",
        "colab_type": "code",
        "colab": {}
      },
      "source": [
        "# drop null value\n",
        "df_reviews = df_reviews[~df_reviews.title.isnull()]"
      ],
      "execution_count": 0,
      "outputs": []
    },
    {
      "cell_type": "code",
      "metadata": {
        "id": "3d1pGa5w3qQv",
        "colab_type": "code",
        "outputId": "17b8cbd7-aecb-4bd3-ffa6-e632150d88f7",
        "colab": {
          "base_uri": "https://localhost:8080/",
          "height": 207
        }
      },
      "source": [
        "df_reviews.isnull().sum()"
      ],
      "execution_count": 18,
      "outputs": [
        {
          "output_type": "execute_result",
          "data": {
            "text/plain": [
              "ASIN             0\n",
              "title            0\n",
              "group            0\n",
              "salesrank        0\n",
              "similar          0\n",
              "categories       0\n",
              "total_reviews    0\n",
              "downloads        0\n",
              "avg_rating       0\n",
              "reviews          0\n",
              "dtype: int64"
            ]
          },
          "metadata": {
            "tags": []
          },
          "execution_count": 18
        }
      ]
    },
    {
      "cell_type": "code",
      "metadata": {
        "id": "xMDs1l7Y3swD",
        "colab_type": "code",
        "outputId": "7aad25f6-4371-4136-aaec-7eba3b5c4010",
        "colab": {
          "base_uri": "https://localhost:8080/",
          "height": 52
        }
      },
      "source": [
        "# check for unique values in group column \n",
        "df_reviews.group.unique()"
      ],
      "execution_count": 19,
      "outputs": [
        {
          "output_type": "execute_result",
          "data": {
            "text/plain": [
              "array([' Book', ' Music', ' DVD', ' Video', ' Toy', ' Video Games',\n",
              "       ' Software', ' Baby Product', ' CE', ' Sports'], dtype=object)"
            ]
          },
          "metadata": {
            "tags": []
          },
          "execution_count": 19
        }
      ]
    },
    {
      "cell_type": "code",
      "metadata": {
        "id": "8WtL_TAa313F",
        "colab_type": "code",
        "outputId": "640804df-1cfc-4d2d-f616-4ac831bbeed1",
        "colab": {
          "base_uri": "https://localhost:8080/",
          "height": 224
        }
      },
      "source": [
        "# view number of avg_ratings per group category\n",
        "df_reviews[['group','avg_rating']].groupby('group').size()"
      ],
      "execution_count": 20,
      "outputs": [
        {
          "output_type": "execute_result",
          "data": {
            "text/plain": [
              "group\n",
              " Baby Product    1     \n",
              " Book            393558\n",
              " CE              4     \n",
              " DVD             19828 \n",
              " Music           103143\n",
              " Software        5     \n",
              " Sports          1     \n",
              " Toy             8     \n",
              " Video           26131 \n",
              " Video Games     1     \n",
              "dtype: int64"
            ]
          },
          "metadata": {
            "tags": []
          },
          "execution_count": 20
        }
      ]
    },
    {
      "cell_type": "code",
      "metadata": {
        "id": "eqd-GNhv4O5a",
        "colab_type": "code",
        "colab": {}
      },
      "source": [
        "# keep only majority of group category\n",
        "frequent_group = [' Book',' DVD',' Music',' Video']\n",
        "df_reviews = df_reviews[df_reviews.group.isin(frequent_group)]"
      ],
      "execution_count": 0,
      "outputs": []
    },
    {
      "cell_type": "code",
      "metadata": {
        "id": "0bxvLbTR6VI9",
        "colab_type": "code",
        "outputId": "8b9ecfef-2521-4a3a-e6f0-f037fd6305a7",
        "colab": {
          "base_uri": "https://localhost:8080/",
          "height": 121
        }
      },
      "source": [
        "df_reviews[['group','avg_rating']].groupby('group').size()"
      ],
      "execution_count": 22,
      "outputs": [
        {
          "output_type": "execute_result",
          "data": {
            "text/plain": [
              "group\n",
              " Book     393558\n",
              " DVD      19828 \n",
              " Music    103143\n",
              " Video    26131 \n",
              "dtype: int64"
            ]
          },
          "metadata": {
            "tags": []
          },
          "execution_count": 22
        }
      ]
    },
    {
      "cell_type": "code",
      "metadata": {
        "id": "q_ApcMrP6edW",
        "colab_type": "code",
        "colab": {}
      },
      "source": [
        "# convert 'avg_rating' column values to float datatype\n",
        "df_reviews['avg_rating'] = df_reviews['avg_rating'].str.strip().astype(float)"
      ],
      "execution_count": 0,
      "outputs": []
    },
    {
      "cell_type": "code",
      "metadata": {
        "id": "p7ZH8WDL6oGp",
        "colab_type": "code",
        "colab": {}
      },
      "source": [
        "# convert 'salesrank','downloads','total_reviews' column values to integer datatype\n",
        "df_reviews[['salesrank','downloads','total_reviews']] = df_reviews[['salesrank','downloads','total_reviews']].astype(int)"
      ],
      "execution_count": 0,
      "outputs": []
    },
    {
      "cell_type": "code",
      "metadata": {
        "id": "d8o-wFuoDrDn",
        "colab_type": "code",
        "outputId": "d858fe19-a173-42d0-ccd5-9baa2c8e52d3",
        "colab": {
          "base_uri": "https://localhost:8080/",
          "height": 121
        }
      },
      "source": [
        "# check mean of 'avg_rating' per group category\n",
        "df_reviews[['group','avg_rating']].groupby('group')['avg_rating'].mean()"
      ],
      "execution_count": 25,
      "outputs": [
        {
          "output_type": "execute_result",
          "data": {
            "text/plain": [
              "group\n",
              " Book     3.051164\n",
              " DVD      3.670996\n",
              " Music    3.635521\n",
              " Video    3.563105\n",
              "Name: avg_rating, dtype: float64"
            ]
          },
          "metadata": {
            "tags": []
          },
          "execution_count": 25
        }
      ]
    },
    {
      "cell_type": "code",
      "metadata": {
        "id": "VfkaE3FmFAKL",
        "colab_type": "code",
        "outputId": "1aa203df-d3bb-4a54-89bf-dc527d5a679a",
        "colab": {
          "base_uri": "https://localhost:8080/",
          "height": 69
        }
      },
      "source": [
        "# check if salesrank is less than zero\n",
        "(df_reviews.salesrank < 0).value_counts()"
      ],
      "execution_count": 26,
      "outputs": [
        {
          "output_type": "execute_result",
          "data": {
            "text/plain": [
              "False    542201\n",
              "True     459   \n",
              "Name: salesrank, dtype: int64"
            ]
          },
          "metadata": {
            "tags": []
          },
          "execution_count": 26
        }
      ]
    },
    {
      "cell_type": "code",
      "metadata": {
        "id": "_X57UEmAFTC1",
        "colab_type": "code",
        "colab": {}
      },
      "source": [
        "# drop rows where salesrank is less than zero\n",
        "df_reviews = df_reviews[~(df_reviews.salesrank < 0)]"
      ],
      "execution_count": 0,
      "outputs": []
    },
    {
      "cell_type": "code",
      "metadata": {
        "id": "i-HWuhIfFtd5",
        "colab_type": "code",
        "outputId": "8385da4c-1b00-4db9-92bd-90510cdf6cfb",
        "colab": {
          "base_uri": "https://localhost:8080/",
          "height": 52
        }
      },
      "source": [
        "(df_reviews.salesrank < 0).value_counts()"
      ],
      "execution_count": 28,
      "outputs": [
        {
          "output_type": "execute_result",
          "data": {
            "text/plain": [
              "False    542201\n",
              "Name: salesrank, dtype: int64"
            ]
          },
          "metadata": {
            "tags": []
          },
          "execution_count": 28
        }
      ]
    },
    {
      "cell_type": "markdown",
      "metadata": {
        "id": "ZKYtKbPo4ztO",
        "colab_type": "text"
      },
      "source": [
        "---\n",
        "\n",
        "## Trustworthiness of ratings\n",
        "\n",
        "Q. Ratings are susceptible to manipulation, bias etc. What can you say (quantitatively speaking) about the ratings in this dataset? "
      ]
    },
    {
      "cell_type": "code",
      "metadata": {
        "id": "76v-IHHP2RSl",
        "colab_type": "code",
        "outputId": "e9b946d3-1cdb-499e-c917-79e0b12f245d",
        "colab": {
          "base_uri": "https://localhost:8080/",
          "height": 288
        }
      },
      "source": [
        "# let us look at data in 'Music' category\n",
        "df_reviews[df_reviews.group.str.strip() == 'Music'].describe()"
      ],
      "execution_count": 29,
      "outputs": [
        {
          "output_type": "execute_result",
          "data": {
            "text/html": [
              "<div>\n",
              "<style scoped>\n",
              "    .dataframe tbody tr th:only-of-type {\n",
              "        vertical-align: middle;\n",
              "    }\n",
              "\n",
              "    .dataframe tbody tr th {\n",
              "        vertical-align: top;\n",
              "    }\n",
              "\n",
              "    .dataframe thead th {\n",
              "        text-align: right;\n",
              "    }\n",
              "</style>\n",
              "<table border=\"1\" class=\"dataframe\">\n",
              "  <thead>\n",
              "    <tr style=\"text-align: right;\">\n",
              "      <th></th>\n",
              "      <th>salesrank</th>\n",
              "      <th>total_reviews</th>\n",
              "      <th>downloads</th>\n",
              "      <th>avg_rating</th>\n",
              "    </tr>\n",
              "  </thead>\n",
              "  <tbody>\n",
              "    <tr>\n",
              "      <th>count</th>\n",
              "      <td>103061.000000</td>\n",
              "      <td>103061.000000</td>\n",
              "      <td>103061.000000</td>\n",
              "      <td>103061.000000</td>\n",
              "    </tr>\n",
              "    <tr>\n",
              "      <th>mean</th>\n",
              "      <td>154423.556263</td>\n",
              "      <td>13.695782</td>\n",
              "      <td>13.471362</td>\n",
              "      <td>3.637904</td>\n",
              "    </tr>\n",
              "    <tr>\n",
              "      <th>std</th>\n",
              "      <td>135982.874527</td>\n",
              "      <td>55.135320</td>\n",
              "      <td>54.706632</td>\n",
              "      <td>1.839903</td>\n",
              "    </tr>\n",
              "    <tr>\n",
              "      <th>min</th>\n",
              "      <td>0.000000</td>\n",
              "      <td>0.000000</td>\n",
              "      <td>0.000000</td>\n",
              "      <td>0.000000</td>\n",
              "    </tr>\n",
              "    <tr>\n",
              "      <th>25%</th>\n",
              "      <td>48816.000000</td>\n",
              "      <td>1.000000</td>\n",
              "      <td>1.000000</td>\n",
              "      <td>3.500000</td>\n",
              "    </tr>\n",
              "    <tr>\n",
              "      <th>50%</th>\n",
              "      <td>116132.000000</td>\n",
              "      <td>3.000000</td>\n",
              "      <td>3.000000</td>\n",
              "      <td>4.500000</td>\n",
              "    </tr>\n",
              "    <tr>\n",
              "      <th>75%</th>\n",
              "      <td>223701.000000</td>\n",
              "      <td>9.000000</td>\n",
              "      <td>9.000000</td>\n",
              "      <td>5.000000</td>\n",
              "    </tr>\n",
              "    <tr>\n",
              "      <th>max</th>\n",
              "      <td>671027.000000</td>\n",
              "      <td>3839.000000</td>\n",
              "      <td>3815.000000</td>\n",
              "      <td>5.000000</td>\n",
              "    </tr>\n",
              "  </tbody>\n",
              "</table>\n",
              "</div>"
            ],
            "text/plain": [
              "           salesrank  total_reviews      downloads     avg_rating\n",
              "count  103061.000000  103061.000000  103061.000000  103061.000000\n",
              "mean   154423.556263  13.695782      13.471362      3.637904     \n",
              "std    135982.874527  55.135320      54.706632      1.839903     \n",
              "min    0.000000       0.000000       0.000000       0.000000     \n",
              "25%    48816.000000   1.000000       1.000000       3.500000     \n",
              "50%    116132.000000  3.000000       3.000000       4.500000     \n",
              "75%    223701.000000  9.000000       9.000000       5.000000     \n",
              "max    671027.000000  3839.000000    3815.000000    5.000000     "
            ]
          },
          "metadata": {
            "tags": []
          },
          "execution_count": 29
        }
      ]
    },
    {
      "cell_type": "code",
      "metadata": {
        "id": "xP-cZDivv2yD",
        "colab_type": "code",
        "outputId": "08dc44ba-097b-4e78-dd50-4fadd5f44ecc",
        "colab": {
          "base_uri": "https://localhost:8080/",
          "height": 288
        }
      },
      "source": [
        "# let us look at data in 'Book' category\n",
        "df_reviews[df_reviews.group == ' Book'].describe()"
      ],
      "execution_count": 30,
      "outputs": [
        {
          "output_type": "execute_result",
          "data": {
            "text/html": [
              "<div>\n",
              "<style scoped>\n",
              "    .dataframe tbody tr th:only-of-type {\n",
              "        vertical-align: middle;\n",
              "    }\n",
              "\n",
              "    .dataframe tbody tr th {\n",
              "        vertical-align: top;\n",
              "    }\n",
              "\n",
              "    .dataframe thead th {\n",
              "        text-align: right;\n",
              "    }\n",
              "</style>\n",
              "<table border=\"1\" class=\"dataframe\">\n",
              "  <thead>\n",
              "    <tr style=\"text-align: right;\">\n",
              "      <th></th>\n",
              "      <th>salesrank</th>\n",
              "      <th>total_reviews</th>\n",
              "      <th>downloads</th>\n",
              "      <th>avg_rating</th>\n",
              "    </tr>\n",
              "  </thead>\n",
              "  <tbody>\n",
              "    <tr>\n",
              "      <th>count</th>\n",
              "      <td>3.931850e+05</td>\n",
              "      <td>393185.000000</td>\n",
              "      <td>393185.000000</td>\n",
              "      <td>393185.000000</td>\n",
              "    </tr>\n",
              "    <tr>\n",
              "      <th>mean</th>\n",
              "      <td>6.315005e+05</td>\n",
              "      <td>11.972601</td>\n",
              "      <td>11.676862</td>\n",
              "      <td>3.053849</td>\n",
              "    </tr>\n",
              "    <tr>\n",
              "      <th>std</th>\n",
              "      <td>6.043784e+05</td>\n",
              "      <td>73.016640</td>\n",
              "      <td>69.913681</td>\n",
              "      <td>2.063002</td>\n",
              "    </tr>\n",
              "    <tr>\n",
              "      <th>min</th>\n",
              "      <td>0.000000e+00</td>\n",
              "      <td>0.000000</td>\n",
              "      <td>0.000000</td>\n",
              "      <td>0.000000</td>\n",
              "    </tr>\n",
              "    <tr>\n",
              "      <th>25%</th>\n",
              "      <td>2.041760e+05</td>\n",
              "      <td>0.000000</td>\n",
              "      <td>0.000000</td>\n",
              "      <td>0.000000</td>\n",
              "    </tr>\n",
              "    <tr>\n",
              "      <th>50%</th>\n",
              "      <td>4.677810e+05</td>\n",
              "      <td>2.000000</td>\n",
              "      <td>2.000000</td>\n",
              "      <td>4.000000</td>\n",
              "    </tr>\n",
              "    <tr>\n",
              "      <th>75%</th>\n",
              "      <td>8.550240e+05</td>\n",
              "      <td>6.000000</td>\n",
              "      <td>6.000000</td>\n",
              "      <td>5.000000</td>\n",
              "    </tr>\n",
              "    <tr>\n",
              "      <th>max</th>\n",
              "      <td>3.798351e+06</td>\n",
              "      <td>5545.000000</td>\n",
              "      <td>4995.000000</td>\n",
              "      <td>5.000000</td>\n",
              "    </tr>\n",
              "  </tbody>\n",
              "</table>\n",
              "</div>"
            ],
            "text/plain": [
              "          salesrank  total_reviews      downloads     avg_rating\n",
              "count  3.931850e+05  393185.000000  393185.000000  393185.000000\n",
              "mean   6.315005e+05  11.972601      11.676862      3.053849     \n",
              "std    6.043784e+05  73.016640      69.913681      2.063002     \n",
              "min    0.000000e+00  0.000000       0.000000       0.000000     \n",
              "25%    2.041760e+05  0.000000       0.000000       0.000000     \n",
              "50%    4.677810e+05  2.000000       2.000000       4.000000     \n",
              "75%    8.550240e+05  6.000000       6.000000       5.000000     \n",
              "max    3.798351e+06  5545.000000    4995.000000    5.000000     "
            ]
          },
          "metadata": {
            "tags": []
          },
          "execution_count": 30
        }
      ]
    },
    {
      "cell_type": "markdown",
      "metadata": {
        "id": "muBG69VP0Int",
        "colab_type": "text"
      },
      "source": [
        "Lets find out if there is a any correlation between 'salesrank', 'avg_rating', 'total_reviews' and 'downloads' for 'Book' category. From the above cell, 75th percentile for 'salesrank' is 8.550240e+05. We take 'avg_rating' to be greater than or equal to 4. Number of 'total_reviews' to be greater than 10."
      ]
    },
    {
      "cell_type": "code",
      "metadata": {
        "id": "4mXmqRokxJ06",
        "colab_type": "code",
        "outputId": "32114539-0359-4b0c-8ad1-ced6fde93bf2",
        "colab": {
          "base_uri": "https://localhost:8080/",
          "height": 349
        }
      },
      "source": [
        "df_reviews[(df_reviews['salesrank']>855025)&(df_reviews['avg_rating']>=4)&(df_reviews['total_reviews']>10)][['title','salesrank','avg_rating','total_reviews','downloads']].head(10)"
      ],
      "execution_count": 31,
      "outputs": [
        {
          "output_type": "execute_result",
          "data": {
            "text/html": [
              "<div>\n",
              "<style scoped>\n",
              "    .dataframe tbody tr th:only-of-type {\n",
              "        vertical-align: middle;\n",
              "    }\n",
              "\n",
              "    .dataframe tbody tr th {\n",
              "        vertical-align: top;\n",
              "    }\n",
              "\n",
              "    .dataframe thead th {\n",
              "        text-align: right;\n",
              "    }\n",
              "</style>\n",
              "<table border=\"1\" class=\"dataframe\">\n",
              "  <thead>\n",
              "    <tr style=\"text-align: right;\">\n",
              "      <th></th>\n",
              "      <th>title</th>\n",
              "      <th>salesrank</th>\n",
              "      <th>avg_rating</th>\n",
              "      <th>total_reviews</th>\n",
              "      <th>downloads</th>\n",
              "    </tr>\n",
              "  </thead>\n",
              "  <tbody>\n",
              "    <tr>\n",
              "      <th>198</th>\n",
              "      <td>Imitation of Christ</td>\n",
              "      <td>933676</td>\n",
              "      <td>4.5</td>\n",
              "      <td>39</td>\n",
              "      <td>39</td>\n",
              "    </tr>\n",
              "    <tr>\n",
              "      <th>329</th>\n",
              "      <td>James Joyce (Penguin Lives (Audio))</td>\n",
              "      <td>1204592</td>\n",
              "      <td>4.5</td>\n",
              "      <td>14</td>\n",
              "      <td>14</td>\n",
              "    </tr>\n",
              "    <tr>\n",
              "      <th>481</th>\n",
              "      <td>A Major Case: A Novel by Pete Deer</td>\n",
              "      <td>2860756</td>\n",
              "      <td>4.5</td>\n",
              "      <td>14</td>\n",
              "      <td>14</td>\n",
              "    </tr>\n",
              "    <tr>\n",
              "      <th>935</th>\n",
              "      <td>Frederick</td>\n",
              "      <td>1035931</td>\n",
              "      <td>4.5</td>\n",
              "      <td>19</td>\n",
              "      <td>19</td>\n",
              "    </tr>\n",
              "    <tr>\n",
              "      <th>1819</th>\n",
              "      <td>Light House</td>\n",
              "      <td>861412</td>\n",
              "      <td>4.0</td>\n",
              "      <td>21</td>\n",
              "      <td>21</td>\n",
              "    </tr>\n",
              "    <tr>\n",
              "      <th>1956</th>\n",
              "      <td>Final Blackout</td>\n",
              "      <td>1337368</td>\n",
              "      <td>4.0</td>\n",
              "      <td>16</td>\n",
              "      <td>16</td>\n",
              "    </tr>\n",
              "    <tr>\n",
              "      <th>2009</th>\n",
              "      <td>Laughter in the Dark (New Directions Paperbook)</td>\n",
              "      <td>1061681</td>\n",
              "      <td>4.5</td>\n",
              "      <td>25</td>\n",
              "      <td>25</td>\n",
              "    </tr>\n",
              "    <tr>\n",
              "      <th>2014</th>\n",
              "      <td>When I Was Little: A Four Year Old's Memoir of Her Youth</td>\n",
              "      <td>1072575</td>\n",
              "      <td>4.5</td>\n",
              "      <td>15</td>\n",
              "      <td>15</td>\n",
              "    </tr>\n",
              "    <tr>\n",
              "      <th>2384</th>\n",
              "      <td>If I Could</td>\n",
              "      <td>928240</td>\n",
              "      <td>4.0</td>\n",
              "      <td>43</td>\n",
              "      <td>43</td>\n",
              "    </tr>\n",
              "    <tr>\n",
              "      <th>2685</th>\n",
              "      <td>Animal Farm</td>\n",
              "      <td>1007371</td>\n",
              "      <td>4.5</td>\n",
              "      <td>992</td>\n",
              "      <td>992</td>\n",
              "    </tr>\n",
              "  </tbody>\n",
              "</table>\n",
              "</div>"
            ],
            "text/plain": [
              "                                                          title  salesrank  \\\n",
              "198    Imitation of Christ                                       933676      \n",
              "329    James Joyce (Penguin Lives (Audio))                       1204592     \n",
              "481    A Major Case: A Novel by Pete Deer                        2860756     \n",
              "935    Frederick                                                 1035931     \n",
              "1819   Light House                                               861412      \n",
              "1956   Final Blackout                                            1337368     \n",
              "2009   Laughter in the Dark (New Directions Paperbook)           1061681     \n",
              "2014   When I Was Little: A Four Year Old's Memoir of Her Youth  1072575     \n",
              "2384   If I Could                                                928240      \n",
              "2685   Animal Farm                                               1007371     \n",
              "\n",
              "      avg_rating  total_reviews  downloads  \n",
              "198   4.5         39             39         \n",
              "329   4.5         14             14         \n",
              "481   4.5         14             14         \n",
              "935   4.5         19             19         \n",
              "1819  4.0         21             21         \n",
              "1956  4.0         16             16         \n",
              "2009  4.5         25             25         \n",
              "2014  4.5         15             15         \n",
              "2384  4.0         43             43         \n",
              "2685  4.5         992            992        "
            ]
          },
          "metadata": {
            "tags": []
          },
          "execution_count": 31
        }
      ]
    },
    {
      "cell_type": "code",
      "metadata": {
        "id": "M1K5AOPO04HZ",
        "colab_type": "code",
        "outputId": "39401c98-019f-4fb3-c7ae-b905ebde2889",
        "colab": {
          "base_uri": "https://localhost:8080/",
          "height": 34
        }
      },
      "source": [
        "len(df_reviews[(df_reviews['salesrank']>855025)&(df_reviews['avg_rating']>=4)&(df_reviews['total_reviews']>10)])"
      ],
      "execution_count": 32,
      "outputs": [
        {
          "output_type": "execute_result",
          "data": {
            "text/plain": [
              "3371"
            ]
          },
          "metadata": {
            "tags": []
          },
          "execution_count": 32
        }
      ]
    },
    {
      "cell_type": "markdown",
      "metadata": {
        "id": "CpINnt9h1fFW",
        "colab_type": "text"
      },
      "source": [
        "We have 3371 items which fall under our above criteria."
      ]
    },
    {
      "cell_type": "code",
      "metadata": {
        "id": "0a5RAUFFtWdE",
        "colab_type": "code",
        "outputId": "7b725231-7f1a-46a9-ab9b-9bcaef045892",
        "colab": {
          "base_uri": "https://localhost:8080/",
          "height": 746
        }
      },
      "source": [
        "# jointplot for 'salesrank' and 'avg_rating'\n",
        "sns.jointplot(x=df_reviews.salesrank, y=df_reviews.avg_rating, kind='reg', color='r', height=10)"
      ],
      "execution_count": 33,
      "outputs": [
        {
          "output_type": "execute_result",
          "data": {
            "text/plain": [
              "<seaborn.axisgrid.JointGrid at 0x7f0c20edb390>"
            ]
          },
          "metadata": {
            "tags": []
          },
          "execution_count": 33
        },
        {
          "output_type": "display_data",
          "data": {
            "image/png": "[encoded data removed]",
            "text/plain": [
              "<Figure size 720x720 with 3 Axes>"
            ]
          },
          "metadata": {
            "tags": []
          }
        }
      ]
    },
    {
      "cell_type": "markdown",
      "metadata": {
        "id": "Dn4vy36NrtXX",
        "colab_type": "text"
      },
      "source": [
        "> From the above table and plot we can see that there is a strong correlation between 'salesrank', 'avg_rating', 'total_reviews' and 'downloads'. Items which have a high 'avg_rating' also have a high 'salesrank'. If a product has low 'avg_rating' but high 'salesrank', this aspect needs to be investigated.\n",
        "\n",
        "---\n",
        "\n"
      ]
    },
    {
      "cell_type": "markdown",
      "metadata": {
        "id": "HSty6IDz44qO",
        "colab_type": "text"
      },
      "source": [
        "## Category Bloat\n",
        "    \n",
        "Consider the product group named 'Books'. Each product in this group is associated with categories. Naturally, with categorization, there are tradeoffs between how broad or specific the categories must be.\n",
        "\n",
        "Q. Is there redundancy in the categorization? How can it be identified/removed?"
      ]
    },
    {
      "cell_type": "code",
      "metadata": {
        "id": "BexJsTp_x2o6",
        "colab_type": "code",
        "outputId": "e792de89-8ce8-4405-db2c-589ec6b35e31",
        "colab": {
          "base_uri": "https://localhost:8080/",
          "height": 52
        }
      },
      "source": [
        "# check out category at index location 0\n",
        "df_reviews.categories.iloc[0]"
      ],
      "execution_count": 34,
      "outputs": [
        {
          "output_type": "execute_result",
          "data": {
            "text/plain": [
              "['   |Books[283155]|Subjects[1000]|Religion & Spirituality[22]|Christianity[12290]|Clergy[12360]|Preaching[12368]',\n",
              " '   |Books[283155]|Subjects[1000]|Religion & Spirituality[22]|Christianity[12290]|Clergy[12360]|Sermons[12370]']"
            ]
          },
          "metadata": {
            "tags": []
          },
          "execution_count": 34
        }
      ]
    },
    {
      "cell_type": "code",
      "metadata": {
        "id": "ZH1TAyfh81Q9",
        "colab_type": "code",
        "outputId": "6316c099-aed5-46b5-ddbd-cb9ae97ae757",
        "colab": {
          "base_uri": "https://localhost:8080/",
          "height": 86
        }
      },
      "source": [
        "# check out category at index location 10\n",
        "df_reviews.categories.iloc[10]"
      ],
      "execution_count": 35,
      "outputs": [
        {
          "output_type": "execute_result",
          "data": {
            "text/plain": [
              "['   |Books[283155]|Subjects[1000]|Health, Mind & Body[10]|Alternative Medicine[4696]|General[4701]',\n",
              " '   |Books[283155]|Subjects[1000]|Medicine[13996]|Alternative & Holistic[14038]|General[14046]',\n",
              " '   |Books[283155]|Subjects[1000]|Professional & Technical[173507]|Medical[173514]|Alternative Medicine[227583]|General[227584]',\n",
              " '   |Books[283155]|Specialty Stores[504360]|jp-unknown2[1061350]']"
            ]
          },
          "metadata": {
            "tags": []
          },
          "execution_count": 35
        }
      ]
    },
    {
      "cell_type": "code",
      "metadata": {
        "id": "goW5XLSh85xR",
        "colab_type": "code",
        "outputId": "12796014-4050-41af-a39b-e1ee0a7187c4",
        "colab": {
          "base_uri": "https://localhost:8080/",
          "height": 104
        }
      },
      "source": [
        "df_reviews.categories.iloc[100]"
      ],
      "execution_count": 36,
      "outputs": [
        {
          "output_type": "execute_result",
          "data": {
            "text/plain": [
              "['   |Books[283155]|Subjects[1000]|Mystery & Thrillers[18]|Thrillers[10484]|General[10485]',\n",
              " '   |Books[283155]|Subjects[1000]|Mystery & Thrillers[18]|Thrillers[10484]|Spy Stories & Tales of Intrigue[10493]',\n",
              " '   |Books[283155]|Subjects[1000]|Mystery & Thrillers[18]|Thrillers[10484]|Suspense[10495]',\n",
              " '   |Books[283155]|Formats[504358]|Books on CD[69724]|Literature & Fiction[1038382]|General[69728]',\n",
              " '   |Books[283155]|Subjects[1000]|Literature & Fiction[17]|Genre Fiction[10134]|Political[171129]']"
            ]
          },
          "metadata": {
            "tags": []
          },
          "execution_count": 36
        }
      ]
    },
    {
      "cell_type": "markdown",
      "metadata": {
        "id": "IvreRR6P5QUf",
        "colab_type": "text"
      },
      "source": [
        "> From above we see that there are multiple categories that are repeated in the same pattern. To find out if we can reduce the redundancy, find out the distribution of the sub-categories within the category list. There may be some sub-categories that figure in only a few books. By finding if there are such categories, we can reduce category bloat.\n",
        "\n",
        "Q. Is is possible to reduce the number of categories drastically (say to 10% of existing categories) by sacrificing relatively few category entries (say close to 10%)?"
      ]
    },
    {
      "cell_type": "code",
      "metadata": {
        "id": "0MsDPfIx6MLT",
        "colab_type": "code",
        "colab": {}
      },
      "source": [
        "# categorize books\n",
        "book_review_df = df_reviews[df_reviews.group == ' Book']\n",
        "\n",
        "all_cat_list = []\n",
        "total_cat_list = 0\n",
        "\n",
        "for item in book_review_df.categories:\n",
        "    for cat_list in item:\n",
        "        total_cat_list = total_cat_list + 1\n",
        "        for i in (cat_list[4:].strip().split('|')):\n",
        "            all_cat_list.append(i)"
      ],
      "execution_count": 0,
      "outputs": []
    },
    {
      "cell_type": "code",
      "metadata": {
        "id": "6cxw5O7P9L7a",
        "colab_type": "code",
        "outputId": "21659000-719d-4de2-f9f5-9c1aa8a1a445",
        "colab": {
          "base_uri": "https://localhost:8080/",
          "height": 34
        }
      },
      "source": [
        "# total number of books\n",
        "len(book_review_df)"
      ],
      "execution_count": 38,
      "outputs": [
        {
          "output_type": "execute_result",
          "data": {
            "text/plain": [
              "393185"
            ]
          },
          "metadata": {
            "tags": []
          },
          "execution_count": 38
        }
      ]
    },
    {
      "cell_type": "code",
      "metadata": {
        "id": "x36zpyof-RyK",
        "colab_type": "code",
        "outputId": "b10b255c-a4b5-4255-ec6a-e4d8dc32e9bf",
        "colab": {
          "base_uri": "https://localhost:8080/",
          "height": 190
        }
      },
      "source": [
        "all_cat_list[:10]"
      ],
      "execution_count": 39,
      "outputs": [
        {
          "output_type": "execute_result",
          "data": {
            "text/plain": [
              "['Books[283155]',\n",
              " 'Subjects[1000]',\n",
              " 'Religion & Spirituality[22]',\n",
              " 'Christianity[12290]',\n",
              " 'Clergy[12360]',\n",
              " 'Preaching[12368]',\n",
              " 'Books[283155]',\n",
              " 'Subjects[1000]',\n",
              " 'Religion & Spirituality[22]',\n",
              " 'Christianity[12290]']"
            ]
          },
          "metadata": {
            "tags": []
          },
          "execution_count": 39
        }
      ]
    },
    {
      "cell_type": "code",
      "metadata": {
        "id": "BgBcKqBg7dNl",
        "colab_type": "code",
        "outputId": "da51bbe6-3708-4beb-e32c-f10527b12b9a",
        "colab": {
          "base_uri": "https://localhost:8080/",
          "height": 34
        }
      },
      "source": [
        "len(all_cat_list)"
      ],
      "execution_count": 40,
      "outputs": [
        {
          "output_type": "execute_result",
          "data": {
            "text/plain": [
              "7888637"
            ]
          },
          "metadata": {
            "tags": []
          },
          "execution_count": 40
        }
      ]
    },
    {
      "cell_type": "code",
      "metadata": {
        "id": "PFLZZlWj7j2Z",
        "colab_type": "code",
        "outputId": "ebcabaa0-805c-4cc5-ef6d-840989939fdd",
        "colab": {
          "base_uri": "https://localhost:8080/",
          "height": 34
        }
      },
      "source": [
        "# total categories across books\n",
        "total_cat_list"
      ],
      "execution_count": 41,
      "outputs": [
        {
          "output_type": "execute_result",
          "data": {
            "text/plain": [
              "1439870"
            ]
          },
          "metadata": {
            "tags": []
          },
          "execution_count": 41
        }
      ]
    },
    {
      "cell_type": "code",
      "metadata": {
        "id": "U7_S1W6X9ICX",
        "colab_type": "code",
        "outputId": "aac149a0-b1df-4082-d820-a91a0e2f1c8c",
        "colab": {
          "base_uri": "https://localhost:8080/",
          "height": 34
        }
      },
      "source": [
        "# unique categories across books\n",
        "len(set(all_cat_list))"
      ],
      "execution_count": 42,
      "outputs": [
        {
          "output_type": "execute_result",
          "data": {
            "text/plain": [
              "14922"
            ]
          },
          "metadata": {
            "tags": []
          },
          "execution_count": 42
        }
      ]
    },
    {
      "cell_type": "markdown",
      "metadata": {
        "id": "z6lw0M3p-41n",
        "colab_type": "text"
      },
      "source": [
        "There are total of 393,185 books; 1,439,870 grouping of categories across books and 14,922 unique categories."
      ]
    },
    {
      "cell_type": "code",
      "metadata": {
        "id": "DKSDGBfC-3Sc",
        "colab_type": "code",
        "colab": {}
      },
      "source": [
        "# cast all book categories into a dataframe\n",
        "cat_df = pd.DataFrame(all_cat_list)"
      ],
      "execution_count": 0,
      "outputs": []
    },
    {
      "cell_type": "code",
      "metadata": {
        "id": "KPU09jRS_u3n",
        "colab_type": "code",
        "colab": {}
      },
      "source": [
        "# name the column as 'Category'\n",
        "cat_df.columns = ['Category']"
      ],
      "execution_count": 0,
      "outputs": []
    },
    {
      "cell_type": "code",
      "metadata": {
        "id": "C0Hcw0we_0UD",
        "colab_type": "code",
        "colab": {}
      },
      "source": [
        "# group the dataframe by 'Category', get 'Category' count, sort the values and reset the index\n",
        "cat_count_df = pd.DataFrame(cat_df.groupby('Category').size().sort_values()).reset_index()"
      ],
      "execution_count": 0,
      "outputs": []
    },
    {
      "cell_type": "code",
      "metadata": {
        "id": "CKFA8TPtAHI2",
        "colab_type": "code",
        "colab": {}
      },
      "source": [
        "# name the column as 'Category' and 'Count'\n",
        "cat_count_df.columns = ['Category','Count']"
      ],
      "execution_count": 0,
      "outputs": []
    },
    {
      "cell_type": "code",
      "metadata": {
        "id": "m-vCYnvJAWdE",
        "colab_type": "code",
        "outputId": "e812c677-0c1b-4c08-d71f-700a022502b8",
        "colab": {
          "base_uri": "https://localhost:8080/",
          "height": 34
        }
      },
      "source": [
        "cat_count_df.Count.sum()"
      ],
      "execution_count": 47,
      "outputs": [
        {
          "output_type": "execute_result",
          "data": {
            "text/plain": [
              "7888637"
            ]
          },
          "metadata": {
            "tags": []
          },
          "execution_count": 47
        }
      ]
    },
    {
      "cell_type": "code",
      "metadata": {
        "id": "0V7qh8aMAZy0",
        "colab_type": "code",
        "outputId": "795b19d1-b512-4b05-9920-5cbbdd0f0d52",
        "colab": {
          "base_uri": "https://localhost:8080/",
          "height": 349
        }
      },
      "source": [
        "# check the 'Category' where 'Count' is less than or equal to 1\n",
        "cat_count_df[cat_count_df.Count<=1].head(10)"
      ],
      "execution_count": 48,
      "outputs": [
        {
          "output_type": "execute_result",
          "data": {
            "text/html": [
              "<div>\n",
              "<style scoped>\n",
              "    .dataframe tbody tr th:only-of-type {\n",
              "        vertical-align: middle;\n",
              "    }\n",
              "\n",
              "    .dataframe tbody tr th {\n",
              "        vertical-align: top;\n",
              "    }\n",
              "\n",
              "    .dataframe thead th {\n",
              "        text-align: right;\n",
              "    }\n",
              "</style>\n",
              "<table border=\"1\" class=\"dataframe\">\n",
              "  <thead>\n",
              "    <tr style=\"text-align: right;\">\n",
              "      <th></th>\n",
              "      <th>Category</th>\n",
              "      <th>Count</th>\n",
              "    </tr>\n",
              "  </thead>\n",
              "  <tbody>\n",
              "    <tr>\n",
              "      <th>0</th>\n",
              "      <td>von Konigslow, Andrea Wayne[1044084]</td>\n",
              "      <td>1</td>\n",
              "    </tr>\n",
              "    <tr>\n",
              "      <th>1</th>\n",
              "      <td>Renaissance (c.1450-1600)[490124]</td>\n",
              "      <td>1</td>\n",
              "    </tr>\n",
              "    <tr>\n",
              "      <th>2</th>\n",
              "      <td>Eastern European[4278]</td>\n",
              "      <td>1</td>\n",
              "    </tr>\n",
              "    <tr>\n",
              "      <th>3</th>\n",
              "      <td>Audio CD[287468]</td>\n",
              "      <td>1</td>\n",
              "    </tr>\n",
              "    <tr>\n",
              "      <th>4</th>\n",
              "      <td>Suites[36675]</td>\n",
              "      <td>1</td>\n",
              "    </tr>\n",
              "    <tr>\n",
              "      <th>5</th>\n",
              "      <td>Leonard, Paul[15540]</td>\n",
              "      <td>1</td>\n",
              "    </tr>\n",
              "    <tr>\n",
              "      <th>6</th>\n",
              "      <td>Musicals &amp; Performing Arts[508526]</td>\n",
              "      <td>1</td>\n",
              "    </tr>\n",
              "    <tr>\n",
              "      <th>7</th>\n",
              "      <td>Atwood, Margaret[1064970]</td>\n",
              "      <td>1</td>\n",
              "    </tr>\n",
              "    <tr>\n",
              "      <th>8</th>\n",
              "      <td>Hassam, Childe[67955]</td>\n",
              "      <td>1</td>\n",
              "    </tr>\n",
              "    <tr>\n",
              "      <th>9</th>\n",
              "      <td>Muslim[1804]</td>\n",
              "      <td>1</td>\n",
              "    </tr>\n",
              "  </tbody>\n",
              "</table>\n",
              "</div>"
            ],
            "text/plain": [
              "                               Category  Count\n",
              "0  von Konigslow, Andrea Wayne[1044084]  1    \n",
              "1  Renaissance (c.1450-1600)[490124]     1    \n",
              "2  Eastern European[4278]                1    \n",
              "3  Audio CD[287468]                      1    \n",
              "4  Suites[36675]                         1    \n",
              "5  Leonard, Paul[15540]                  1    \n",
              "6  Musicals & Performing Arts[508526]    1    \n",
              "7  Atwood, Margaret[1064970]             1    \n",
              "8  Hassam, Childe[67955]                 1    \n",
              "9  Muslim[1804]                          1    "
            ]
          },
          "metadata": {
            "tags": []
          },
          "execution_count": 48
        }
      ]
    },
    {
      "cell_type": "code",
      "metadata": {
        "id": "mReUiO3_AfJJ",
        "colab_type": "code",
        "outputId": "5829e1ab-1a7c-4bcf-ba5a-a4b77e09de5a",
        "colab": {
          "base_uri": "https://localhost:8080/",
          "height": 34
        }
      },
      "source": [
        "# get total number of 'Category' where 'Count' is less than or equal to 1\n",
        "len(cat_count_df[cat_count_df.Count<=1])"
      ],
      "execution_count": 49,
      "outputs": [
        {
          "output_type": "execute_result",
          "data": {
            "text/plain": [
              "1104"
            ]
          },
          "metadata": {
            "tags": []
          },
          "execution_count": 49
        }
      ]
    },
    {
      "cell_type": "markdown",
      "metadata": {
        "id": "O324JzzJEGgN",
        "colab_type": "text"
      },
      "source": [
        "> We see that there are 1104 out of 14,922 occur only once in the categorization. Hence by looking at this distribution it is possible to reduce the number of categorizations without reducing the overall specificity.\n",
        "\n",
        "---\n",
        "\n",
        "## Algorithm thinking\n",
        "\n",
        "Q. How would build the product categorization from scratch, using similar/co-purchased information?\n",
        "\n",
        "> We can use the 'similar' column attribute from the dataframe which provides ASINs of co-purchased products (people who buy X also buy Y).\n",
        "\n",
        "---\n",
        "\n",
        "## Product thinking\n",
        "\n",
        "Q. Is it a good idea to show users the categorization hierarchy for items?\n",
        "\n",
        "> It depends on the item and the level of search the customer is looking for. For example, someone who is going to buy any phone as long as it is cheap would not be helped by a hierarchial categorization. Heirarchial categorization is useful when someone is looking for a specific product or its closest alternatives.\n",
        "\n",
        "Q. Is it a good idea to show users similar/co-purchased items?\n",
        "\n",
        "> It usually is. There are certain types of items that people typically purchase together and showing them together acts as a reminder that the customer needs to get the other item as well. Common example, phones and memory cards.\n",
        "\n",
        "Q. Is it a good idea to show users reviews and ratings for items?\n",
        "\n",
        "> In most cases, yes it is. However, there may be certain drawbacks of this approach. Using the ratings allows one to manipulate the perception of the product quality. Also, showing reviews / ratings means that badly rated products / non-rated products would not get as much as air-time as other products. They may not be sold as much as it should have been."
      ]
    }
  ]
}